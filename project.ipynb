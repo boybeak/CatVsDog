{
 "cells": [
  {
   "cell_type": "code",
   "execution_count": 1,
   "metadata": {},
   "outputs": [
    {
     "name": "stderr",
     "output_type": "stream",
     "text": [
      "/home/ubuntu/anaconda3/envs/tensorflow_p36/lib/python3.6/site-packages/h5py/__init__.py:36: FutureWarning: Conversion of the second argument of issubdtype from `float` to `np.floating` is deprecated. In future, it will be treated as `np.float64 == np.dtype(float).type`.\n",
      "  from ._conv import register_converters as _register_converters\n",
      "Using TensorFlow backend.\n",
      "/home/ubuntu/anaconda3/envs/tensorflow_p36/lib/python3.6/site-packages/matplotlib/__init__.py:1067: UserWarning: Duplicate key in file \"/home/ubuntu/.config/matplotlib/matplotlibrc\", line #2\n",
      "  (fname, cnt))\n",
      "/home/ubuntu/anaconda3/envs/tensorflow_p36/lib/python3.6/site-packages/matplotlib/__init__.py:1067: UserWarning: Duplicate key in file \"/home/ubuntu/.config/matplotlib/matplotlibrc\", line #3\n",
      "  (fname, cnt))\n"
     ]
    }
   ],
   "source": [
    "# read dataset one image\n",
    "\n",
    "# image_size=128, batch_size:256, drop_out=0.25,0.5, score=2.6896452718267965e-05\n",
    "\n",
    "from keras.preprocessing import image\n",
    "\n",
    "imageSize = 128\n",
    "batch_size = 128\n",
    "is_debug = False\n",
    "\n",
    "def readImage(path):\n",
    "    img = image.load_img(path, target_size=(imageSize, imageSize))\n",
    "    x = image.img_to_array(img)\n",
    "    x = x.astype('float32')\n",
    "    x /= 255\n",
    "    return x"
   ]
  },
  {
   "cell_type": "code",
   "execution_count": 2,
   "metadata": {},
   "outputs": [
    {
     "name": "stdout",
     "output_type": "stream",
     "text": [
      "getLabel done\n"
     ]
    }
   ],
   "source": [
    "def getLabel(path):\n",
    "    name = path[path.rfind('/') + 1:path.index('.')]\n",
    "#     print (name)\n",
    "    return 1 if name == 'dog' else 0\n",
    "print (\"getLabel done\")"
   ]
  },
  {
   "cell_type": "code",
   "execution_count": 3,
   "metadata": {},
   "outputs": [],
   "source": [
    "import helper\n",
    "\n",
    "def readFeatureAndLabel():\n",
    "    train_files = helper.get_train_files()\n",
    "    file_count = 1024 if is_debug else len(train_files)\n",
    "    print(\"readFeatureAndLabel file_count=\" + str(file_count))\n",
    "    train_feature = []\n",
    "    train_label = []\n",
    "    for i in range(file_count):\n",
    "        f = train_files[i]\n",
    "#         print (f)\n",
    "        train_feature.append(readImage(f))\n",
    "        train_label.append(getLabel(f))\n",
    "    \n",
    "    return train_feature, train_label"
   ]
  },
  {
   "cell_type": "code",
   "execution_count": 4,
   "metadata": {},
   "outputs": [
    {
     "name": "stdout",
     "output_type": "stream",
     "text": [
      "readFeatureAndLabel file_count=25000\n"
     ]
    }
   ],
   "source": [
    "import numpy as np\n",
    "\n",
    "total_feature, total_label = readFeatureAndLabel()\n",
    "total_feature = np.array(total_feature)\n",
    "# total_feature = total_feature.astype('float32')\n",
    "# total_feature /= 255\n",
    "\n",
    "total_label = np.array(total_label)\n",
    "# print (total_label)"
   ]
  },
  {
   "cell_type": "code",
   "execution_count": 5,
   "metadata": {},
   "outputs": [
    {
     "name": "stdout",
     "output_type": "stream",
     "text": [
      "done\n"
     ]
    }
   ],
   "source": [
    "# split train_feature, train_label, validation_feature, validation_label\n",
    "from sklearn.model_selection import train_test_split\n",
    "train_feature, validation_feature, train_label, validation_label = train_test_split(total_feature, total_label, test_size=0.1, random_state=1)\n",
    "    \n",
    "# print (train_label)\n",
    "print(\"done\")"
   ]
  },
  {
   "cell_type": "code",
   "execution_count": 6,
   "metadata": {},
   "outputs": [
    {
     "name": "stdout",
     "output_type": "stream",
     "text": [
      "<class 'numpy.ndarray'>\n"
     ]
    }
   ],
   "source": [
    "print(type(train_feature))"
   ]
  },
  {
   "cell_type": "code",
   "execution_count": 7,
   "metadata": {},
   "outputs": [
    {
     "name": "stdout",
     "output_type": "stream",
     "text": [
      "done\n"
     ]
    }
   ],
   "source": [
    "import math\n",
    "\n",
    "def score_fun(label_pre):\n",
    "    total_score = 0\n",
    "    size = validation_label.size\n",
    "    for i in range(size):\n",
    "        y = validation_label[i]\n",
    "        yp = label_pre[i]\n",
    "#         print (str(y) + \" \" + str(yp))\n",
    "        try:\n",
    "            total_score = y * math.log(yp) + (1 - y)*math.log(1-yp)\n",
    "        except:\n",
    "            print (str(i) + \": \" + str(y) + \" - \" + str(yp))\n",
    "    return -total_score/size\n",
    "print(\"done\")"
   ]
  },
  {
   "cell_type": "code",
   "execution_count": 8,
   "metadata": {},
   "outputs": [
    {
     "name": "stdout",
     "output_type": "stream",
     "text": [
      "Train on 22500 samples, validate on 2500 samples\n",
      "Epoch 1/10\n",
      "22500/22500 [==============================] - 63s 3ms/step - loss: 0.7685 - acc: 0.5870 - val_loss: 0.6430 - val_acc: 0.6244\n",
      "Epoch 2/10\n",
      "22500/22500 [==============================] - 13s 560us/step - loss: 0.6079 - acc: 0.6699 - val_loss: 0.5749 - val_acc: 0.6912\n",
      "Epoch 3/10\n",
      "22500/22500 [==============================] - 13s 560us/step - loss: 0.5855 - acc: 0.6994 - val_loss: 0.5717 - val_acc: 0.6964\n",
      "Epoch 4/10\n",
      "22500/22500 [==============================] - 13s 561us/step - loss: 0.5180 - acc: 0.7393 - val_loss: 0.4954 - val_acc: 0.7632\n",
      "Epoch 5/10\n",
      "22500/22500 [==============================] - 13s 561us/step - loss: 0.4851 - acc: 0.7661 - val_loss: 0.4891 - val_acc: 0.7680\n",
      "Epoch 6/10\n",
      "22500/22500 [==============================] - 13s 561us/step - loss: 0.4475 - acc: 0.7908 - val_loss: 0.5890 - val_acc: 0.7304\n",
      "Epoch 7/10\n",
      "22500/22500 [==============================] - 13s 563us/step - loss: 0.4164 - acc: 0.8107 - val_loss: 0.4626 - val_acc: 0.7940\n",
      "Epoch 8/10\n",
      "22500/22500 [==============================] - 13s 566us/step - loss: 0.3850 - acc: 0.8260 - val_loss: 0.4872 - val_acc: 0.7732\n",
      "Epoch 9/10\n",
      "22500/22500 [==============================] - 13s 564us/step - loss: 0.3538 - acc: 0.8443 - val_loss: 0.4572 - val_acc: 0.7904\n",
      "Epoch 10/10\n",
      "22500/22500 [==============================] - 13s 563us/step - loss: 0.3268 - acc: 0.8585 - val_loss: 0.5449 - val_acc: 0.7448\n",
      "2500/2500 [==============================] - 1s 243us/step\n",
      "[0.5448900404930115, 0.7447999979972839]\n"
     ]
    }
   ],
   "source": [
    "# convolutional\n",
    "from keras.models import Sequential\n",
    "from keras.layers import Dense, Dropout, Flatten\n",
    "from keras.layers.convolutional import Conv2D\n",
    "from keras.layers.pooling import MaxPooling2D\n",
    "from keras.optimizers import SGD\n",
    "\n",
    "model = Sequential()\n",
    "\n",
    "model.add(Conv2D(32, (3, 3), activation='relu', input_shape=(imageSize, imageSize, 3)))\n",
    "\n",
    "model.add(Conv2D(32, (3, 3), activation='relu'))\n",
    "model.add(MaxPooling2D(pool_size=(2, 2)))\n",
    "model.add(Dropout(0.25))\n",
    "\n",
    "model.add(Conv2D(64, (3, 3), activation='relu'))\n",
    "model.add(Conv2D(64, (3, 3), activation='relu'))\n",
    "model.add(MaxPooling2D(pool_size=(2, 2)))\n",
    "model.add(Dropout(0.25))\n",
    "\n",
    "model.add(Flatten())\n",
    "model.add(Dense(256, activation='relu'))\n",
    "model.add(Dropout(0.5))\n",
    "model.add(Dense(1, activation='sigmoid'))\n",
    "\n",
    "# sgd = SGD(lr=0.01, decay=1e-6, momentum=0.9, nesterov=True)\n",
    "model.compile(loss='binary_crossentropy', optimizer='rmsprop',\n",
    "              metrics=['accuracy'])\n",
    "\n",
    "history = model.fit(train_feature, train_label, batch_size=batch_size, epochs=10, validation_data=(validation_feature, validation_label))\n",
    "\n",
    "pre_val_label = model.predict(x=validation_feature, batch_size=batch_size)\n",
    "# for i in range(pre_val_label.size):\n",
    "#     print(str(i) + \": \" + str(pre_val_label[i]))\n",
    "score = model.evaluate(validation_feature, validation_label, batch_size=batch_size)\n",
    "print (score)\n"
   ]
  },
  {
   "cell_type": "code",
   "execution_count": 9,
   "metadata": {},
   "outputs": [
    {
     "name": "stdout",
     "output_type": "stream",
     "text": [
      "2.6896452718267965e-05\n"
     ]
    }
   ],
   "source": [
    "# score the model\n",
    "\n",
    "score = score_fun(pre_val_label)\n",
    "\n",
    "print (score)"
   ]
  },
  {
   "cell_type": "code",
   "execution_count": 10,
   "metadata": {},
   "outputs": [],
   "source": [
    "# save weights\n",
    "model.save_weights('weights.h5')"
   ]
  },
  {
   "cell_type": "code",
   "execution_count": 11,
   "metadata": {},
   "outputs": [
    {
     "name": "stdout",
     "output_type": "stream",
     "text": [
      "<class 'numpy.ndarray'>\n",
      "12500\n"
     ]
    }
   ],
   "source": [
    "import helper\n",
    "\n",
    "test_files = helper.get_test_files()\n",
    "test_files = sorted(test_files, key=lambda s: (len(s), s))\n",
    "\n",
    "test_file_size = 128 if is_debug else len(test_files)\n",
    "\n",
    "test_feature = []\n",
    "for i in range(test_file_size):\n",
    "    test_feature.append(readImage(test_files[i]))\n",
    "test_feature = np.asarray(test_feature)\n",
    "print(type(test_feature))\n",
    "test_label = model.predict(test_feature, batch_size=batch_size)\n",
    "print (len(test_label))"
   ]
  },
  {
   "cell_type": "code",
   "execution_count": 12,
   "metadata": {},
   "outputs": [
    {
     "name": "stdout",
     "output_type": "stream",
     "text": [
      "12500\n",
      "done\n"
     ]
    }
   ],
   "source": [
    "test_label_output = []\n",
    "for i in range(len(test_label)):\n",
    "    test_label_output.append([i + 1, test_label[i]])\n",
    "    \n",
    "print (len(test_label_output))\n",
    "test_label_output = np.array(test_label_output)\n",
    "np.savetxt(\"test.csv\", test_label_output, delimiter=',', header=\"id,label\", comments=\"\")\n",
    "print('done')"
   ]
  },
  {
   "cell_type": "code",
   "execution_count": 15,
   "metadata": {},
   "outputs": [
    {
     "name": "stdout",
     "output_type": "stream",
     "text": [
      "<keras.callbacks.History object at 0x7f36993d3f98>\n"
     ]
    },
    {
     "data": {
      "text/plain": [
       "Text(0.5,1,'Accuracy Curves')"
      ]
     },
     "execution_count": 15,
     "metadata": {},
     "output_type": "execute_result"
    },
    {
     "data": {
      "image/png": "[encoded data removed]",
      "text/plain": [
       "<Figure size 576x432 with 1 Axes>"
      ]
     },
     "metadata": {},
     "output_type": "display_data"
    },
    {
     "data": {
      "image/png": "[encoded data removed]",
      "text/plain": [
       "<Figure size 576x432 with 1 Axes>"
      ]
     },
     "metadata": {},
     "output_type": "display_data"
    }
   ],
   "source": [
    "import matplotlib.pyplot as plt\n",
    "\n",
    "print (history)\n",
    "# Loss Curves\n",
    "plt.figure(figsize=[8,6])\n",
    "plt.plot(history.history['loss'],'r',linewidth=3.0)\n",
    "plt.plot(history.history['val_loss'],'b',linewidth=3.0)\n",
    "plt.legend(['Training loss', 'Validation Loss'],fontsize=18)\n",
    "plt.xlabel('Epochs ',fontsize=16)\n",
    "plt.ylabel('Loss',fontsize=16)\n",
    "plt.title('Loss Curves',fontsize=16)\n",
    " \n",
    "# Accuracy Curves\n",
    "plt.figure(figsize=[8,6])\n",
    "plt.plot(history.history['acc'],'r',linewidth=3.0)\n",
    "plt.plot(history.history['val_acc'],'b',linewidth=3.0)\n",
    "plt.legend(['Training Accuracy', 'Validation Accuracy'],fontsize=18)\n",
    "plt.xlabel('Epochs ',fontsize=16)\n",
    "plt.ylabel('Accuracy',fontsize=16)\n",
    "plt.title('Accuracy Curves',fontsize=16)"
   ]
  },
  {
   "cell_type": "code",
   "execution_count": null,
   "metadata": {},
   "outputs": [],
   "source": []
  }
 ],
 "metadata": {
  "kernelspec": {
   "display_name": "Environment (conda_tensorflow_p36)",
   "language": "python",
   "name": "conda_tensorflow_p36"
  },
  "language_info": {
   "codemirror_mode": {
    "name": "ipython",
    "version": 3
   },
   "file_extension": ".py",
   "mimetype": "text/x-python",
   "name": "python",
   "nbconvert_exporter": "python",
   "pygments_lexer": "ipython3",
   "version": "3.6.4"
  }
 },
 "nbformat": 4,
 "nbformat_minor": 2
}
