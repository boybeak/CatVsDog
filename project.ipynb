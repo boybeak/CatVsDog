{
 "cells": [
  {
   "cell_type": "code",
   "execution_count": 1,
   "metadata": {},
   "outputs": [
    {
     "name": "stderr",
     "output_type": "stream",
     "text": [
      "/home/ubuntu/anaconda3/envs/tensorflow_p36/lib/python3.6/site-packages/h5py/__init__.py:36: FutureWarning: Conversion of the second argument of issubdtype from `float` to `np.floating` is deprecated. In future, it will be treated as `np.float64 == np.dtype(float).type`.\n",
      "  from ._conv import register_converters as _register_converters\n",
      "Using TensorFlow backend.\n",
      "/home/ubuntu/anaconda3/envs/tensorflow_p36/lib/python3.6/site-packages/matplotlib/__init__.py:1067: UserWarning: Duplicate key in file \"/home/ubuntu/.config/matplotlib/matplotlibrc\", line #2\n",
      "  (fname, cnt))\n",
      "/home/ubuntu/anaconda3/envs/tensorflow_p36/lib/python3.6/site-packages/matplotlib/__init__.py:1067: UserWarning: Duplicate key in file \"/home/ubuntu/.config/matplotlib/matplotlibrc\", line #3\n",
      "  (fname, cnt))\n"
     ]
    }
   ],
   "source": [
    "# read dataset one image\n",
    "\n",
    "# image_size=128, batch_size:256, epochs=10, drop_out=0.25,0.5, score=2.6896452718267965e-05\n",
    "# image_size=128, batch_size:128, epochs=10, drop_out=0.25,0.5, score=2.0310855384028685e-05\n",
    "# image_size=128, batch_size:128, epochs=20, drop_out=0.25,0.5, score=1.1700560265438025e-06\n",
    "# image_size=128, batch_size:128, epochs=20, drop_out=0.1,0.2, score=0.002593253495028333\n",
    "\n",
    "from keras.preprocessing import image\n",
    "\n",
    "imageSize = 128\n",
    "batch_size = 128\n",
    "is_debug = False\n",
    "\n",
    "def readImage(path):\n",
    "    img = image.load_img(path, target_size=(imageSize, imageSize))\n",
    "    x = image.img_to_array(img)\n",
    "    x = x.astype('float32')\n",
    "    x /= 255\n",
    "    return x"
   ]
  },
  {
   "cell_type": "code",
   "execution_count": 2,
   "metadata": {},
   "outputs": [
    {
     "name": "stdout",
     "output_type": "stream",
     "text": [
      "getLabel done\n"
     ]
    }
   ],
   "source": [
    "def getLabel(path):\n",
    "    name = path[path.rfind('/') + 1:path.index('.')]\n",
    "#     print (name)\n",
    "    return 1 if name == 'dog' else 0\n",
    "print (\"getLabel done\")"
   ]
  },
  {
   "cell_type": "code",
   "execution_count": 3,
   "metadata": {},
   "outputs": [],
   "source": [
    "import helper\n",
    "\n",
    "def readFeatureAndLabel():\n",
    "    train_files = helper.get_train_files()\n",
    "    file_count = 1024 if is_debug else len(train_files)\n",
    "    print(\"readFeatureAndLabel file_count=\" + str(file_count))\n",
    "    train_feature = []\n",
    "    train_label = []\n",
    "    for i in range(file_count):\n",
    "        f = train_files[i]\n",
    "#         print (f)\n",
    "        train_feature.append(readImage(f))\n",
    "        train_label.append(getLabel(f))\n",
    "    \n",
    "    return train_feature, train_label"
   ]
  },
  {
   "cell_type": "code",
   "execution_count": 4,
   "metadata": {},
   "outputs": [
    {
     "name": "stdout",
     "output_type": "stream",
     "text": [
      "readFeatureAndLabel file_count=25000\n"
     ]
    }
   ],
   "source": [
    "import numpy as np\n",
    "\n",
    "total_feature, total_label = readFeatureAndLabel()\n",
    "total_feature = np.array(total_feature)\n",
    "# total_feature = total_feature.astype('float32')\n",
    "# total_feature /= 255\n",
    "\n",
    "total_label = np.array(total_label)\n",
    "# print (total_label)"
   ]
  },
  {
   "cell_type": "code",
   "execution_count": 5,
   "metadata": {},
   "outputs": [
    {
     "name": "stdout",
     "output_type": "stream",
     "text": [
      "done\n"
     ]
    }
   ],
   "source": [
    "# split train_feature, train_label, validation_feature, validation_label\n",
    "from sklearn.model_selection import train_test_split\n",
    "train_feature, validation_feature, train_label, validation_label = train_test_split(total_feature, total_label, test_size=0.1, random_state=1)\n",
    "    \n",
    "# print (train_label)\n",
    "print(\"done\")"
   ]
  },
  {
   "cell_type": "code",
   "execution_count": 6,
   "metadata": {},
   "outputs": [
    {
     "name": "stdout",
     "output_type": "stream",
     "text": [
      "<class 'numpy.ndarray'>\n"
     ]
    }
   ],
   "source": [
    "print(type(train_feature))"
   ]
  },
  {
   "cell_type": "code",
   "execution_count": 7,
   "metadata": {},
   "outputs": [
    {
     "name": "stdout",
     "output_type": "stream",
     "text": [
      "done\n"
     ]
    }
   ],
   "source": [
    "import math\n",
    "\n",
    "def score_fun(label_pre):\n",
    "    total_score = 0\n",
    "    size = validation_label.size\n",
    "    for i in range(size):\n",
    "        y = validation_label[i]\n",
    "        yp = label_pre[i]\n",
    "#         print (str(y) + \" \" + str(yp))\n",
    "        try:\n",
    "            total_score = y * math.log(yp) + (1 - y)*math.log(1-yp)\n",
    "        except:\n",
    "            print (str(i) + \": \" + str(y) + \" - \" + str(yp))\n",
    "    return -total_score/size\n",
    "print(\"done\")"
   ]
  },
  {
   "cell_type": "code",
   "execution_count": 17,
   "metadata": {},
   "outputs": [
    {
     "ename": "ModuleNotFoundError",
     "evalue": "No module named 'keras.regularizer'",
     "output_type": "error",
     "traceback": [
      "\u001b[0;31m---------------------------------------------------------------------------\u001b[0m",
      "\u001b[0;31mModuleNotFoundError\u001b[0m                       Traceback (most recent call last)",
      "\u001b[0;32m<ipython-input-17-fe527f5356fe>\u001b[0m in \u001b[0;36m<module>\u001b[0;34m()\u001b[0m\n\u001b[1;32m      4\u001b[0m \u001b[0;32mfrom\u001b[0m \u001b[0mkeras\u001b[0m\u001b[0;34m.\u001b[0m\u001b[0mlayers\u001b[0m\u001b[0;34m.\u001b[0m\u001b[0mconvolutional\u001b[0m \u001b[0;32mimport\u001b[0m \u001b[0mConv2D\u001b[0m\u001b[0;34m\u001b[0m\u001b[0m\n\u001b[1;32m      5\u001b[0m \u001b[0;32mfrom\u001b[0m \u001b[0mkeras\u001b[0m\u001b[0;34m.\u001b[0m\u001b[0mlayers\u001b[0m\u001b[0;34m.\u001b[0m\u001b[0mpooling\u001b[0m \u001b[0;32mimport\u001b[0m \u001b[0mMaxPooling2D\u001b[0m\u001b[0;34m\u001b[0m\u001b[0m\n\u001b[0;32m----> 6\u001b[0;31m \u001b[0;32mimport\u001b[0m \u001b[0mkeras\u001b[0m\u001b[0;34m.\u001b[0m\u001b[0mregularizer\u001b[0m\u001b[0;34m.\u001b[0m\u001b[0mRegularizer\u001b[0m \u001b[0;32mas\u001b[0m \u001b[0mregularizers\u001b[0m\u001b[0;34m\u001b[0m\u001b[0m\n\u001b[0m\u001b[1;32m      7\u001b[0m \u001b[0;32mfrom\u001b[0m \u001b[0mkeras\u001b[0m\u001b[0;34m.\u001b[0m\u001b[0moptimizers\u001b[0m \u001b[0;32mimport\u001b[0m \u001b[0mSGD\u001b[0m\u001b[0;34m\u001b[0m\u001b[0m\n\u001b[1;32m      8\u001b[0m \u001b[0;34m\u001b[0m\u001b[0m\n",
      "\u001b[0;31mModuleNotFoundError\u001b[0m: No module named 'keras.regularizer'"
     ]
    }
   ],
   "source": [
    "# convolutional\n",
    "from keras.models import Sequential\n",
    "from keras.layers import Dense, Dropout, Flatten\n",
    "from keras.layers.convolutional import Conv2D\n",
    "from keras.layers.pooling import MaxPooling2D\n",
    "# import keras.regularizer.Regularizer as regularizers\n",
    "from keras.optimizers import SGD\n",
    "\n",
    "model = Sequential()\n",
    "\n",
    "model.add(Conv2D(32, (3, 3), activation='relu', input_shape=(imageSize, imageSize, 3)))\n",
    "\n",
    "model.add(Conv2D(32, (3, 3), activation='relu'))\n",
    "model.add(MaxPooling2D(pool_size=(2, 2)))\n",
    "model.add(Dropout(0.25))\n",
    "\n",
    "model.add(Conv2D(64, (3, 3), activation='relu'))\n",
    "model.add(Conv2D(64, (3, 3), activation='relu'))\n",
    "model.add(MaxPooling2D(pool_size=(2, 2)))\n",
    "model.add(Dropout(0.1))\n",
    "\n",
    "model.add(Flatten())\n",
    "model.add(Dense(256, activation='relu'))\n",
    "model.add(Dropout(0.2))\n",
    "\n",
    "model.add(Dense(1, activation='sigmoid'))\n",
    "\n",
    "# sgd = SGD(lr=0.01, decay=1e-6, momentum=0.9, nesterov=True)\n",
    "model.compile(loss='binary_crossentropy', optimizer='rmsprop',\n",
    "              metrics=['accuracy'])\n",
    "\n",
    "history = model.fit(train_feature, train_label, batch_size=batch_size, epochs=20, validation_data=(validation_feature, validation_label))\n",
    "\n",
    "pre_val_label = model.predict(x=validation_feature, batch_size=batch_size)\n",
    "# for i in range(pre_val_label.size):\n",
    "#     print(str(i) + \": \" + str(pre_val_label[i]))\n",
    "score = model.evaluate(validation_feature, validation_label, batch_size=batch_size)\n",
    "print (score)\n"
   ]
  },
  {
   "cell_type": "code",
   "execution_count": 39,
   "metadata": {},
   "outputs": [
    {
     "name": "stdout",
     "output_type": "stream",
     "text": [
      "Train on 22500 samples, validate on 2500 samples\n",
      "Epoch 1/30\n",
      "22500/22500 [==============================] - 9s 379us/step - loss: 0.6839 - acc: 0.5667 - val_loss: 0.6815 - val_acc: 0.5812\n",
      "Epoch 2/30\n",
      "22500/22500 [==============================] - 7s 306us/step - loss: 0.6342 - acc: 0.6474 - val_loss: 0.6216 - val_acc: 0.6576\n",
      "Epoch 3/30\n",
      "22500/22500 [==============================] - 7s 305us/step - loss: 0.5990 - acc: 0.6834 - val_loss: 0.5743 - val_acc: 0.7116\n",
      "Epoch 4/30\n",
      "22500/22500 [==============================] - 7s 305us/step - loss: 0.5713 - acc: 0.7054 - val_loss: 0.5458 - val_acc: 0.7168\n",
      "Epoch 5/30\n",
      "22500/22500 [==============================] - 7s 305us/step - loss: 0.5452 - acc: 0.7275 - val_loss: 0.5884 - val_acc: 0.6924\n",
      "Epoch 6/30\n",
      "22500/22500 [==============================] - 7s 306us/step - loss: 0.5198 - acc: 0.7432 - val_loss: 0.5319 - val_acc: 0.7264\n",
      "Epoch 7/30\n",
      "22500/22500 [==============================] - 7s 306us/step - loss: 0.5005 - acc: 0.7565 - val_loss: 0.5700 - val_acc: 0.6940\n",
      "Epoch 8/30\n",
      "22500/22500 [==============================] - 7s 305us/step - loss: 0.4690 - acc: 0.7778 - val_loss: 0.5172 - val_acc: 0.7552\n",
      "Epoch 9/30\n",
      "22500/22500 [==============================] - 7s 306us/step - loss: 0.4486 - acc: 0.7909 - val_loss: 0.4398 - val_acc: 0.7960\n",
      "Epoch 10/30\n",
      "22500/22500 [==============================] - 7s 305us/step - loss: 0.4228 - acc: 0.8104 - val_loss: 0.4683 - val_acc: 0.7860\n",
      "Epoch 11/30\n",
      "22500/22500 [==============================] - 7s 305us/step - loss: 0.4061 - acc: 0.8156 - val_loss: 0.3982 - val_acc: 0.8096\n",
      "Epoch 12/30\n",
      "22500/22500 [==============================] - 7s 305us/step - loss: 0.3856 - acc: 0.8254 - val_loss: 0.4381 - val_acc: 0.7900\n",
      "Epoch 13/30\n",
      "22500/22500 [==============================] - 7s 305us/step - loss: 0.3734 - acc: 0.8306 - val_loss: 0.3835 - val_acc: 0.8168\n",
      "Epoch 14/30\n",
      "22500/22500 [==============================] - 7s 306us/step - loss: 0.3562 - acc: 0.8383 - val_loss: 0.3926 - val_acc: 0.8168\n",
      "Epoch 15/30\n",
      "22500/22500 [==============================] - 7s 305us/step - loss: 0.3405 - acc: 0.8481 - val_loss: 0.4585 - val_acc: 0.8004\n",
      "Epoch 16/30\n",
      "22500/22500 [==============================] - 7s 305us/step - loss: 0.3236 - acc: 0.8564 - val_loss: 0.3590 - val_acc: 0.8364\n",
      "Epoch 17/30\n",
      "22500/22500 [==============================] - 7s 305us/step - loss: 0.3121 - acc: 0.8643 - val_loss: 0.3605 - val_acc: 0.8284\n",
      "Epoch 18/30\n",
      "22500/22500 [==============================] - 7s 306us/step - loss: 0.3065 - acc: 0.8681 - val_loss: 0.3803 - val_acc: 0.8348\n",
      "Epoch 19/30\n",
      "22500/22500 [==============================] - 7s 306us/step - loss: 0.2932 - acc: 0.8724 - val_loss: 0.3441 - val_acc: 0.8372\n",
      "Epoch 20/30\n",
      "22500/22500 [==============================] - 7s 305us/step - loss: 0.2879 - acc: 0.8761 - val_loss: 0.3624 - val_acc: 0.8360\n",
      "Epoch 21/30\n",
      "22500/22500 [==============================] - 7s 305us/step - loss: 0.2735 - acc: 0.8818 - val_loss: 0.3458 - val_acc: 0.8456\n",
      "Epoch 22/30\n",
      "22500/22500 [==============================] - 7s 306us/step - loss: 0.2639 - acc: 0.8877 - val_loss: 0.3698 - val_acc: 0.8408\n",
      "Epoch 23/30\n",
      "22500/22500 [==============================] - 7s 304us/step - loss: 0.2615 - acc: 0.8892 - val_loss: 0.4110 - val_acc: 0.8336\n",
      "Epoch 24/30\n",
      "22500/22500 [==============================] - 7s 304us/step - loss: 0.2504 - acc: 0.8924 - val_loss: 0.3321 - val_acc: 0.8512\n",
      "Epoch 25/30\n",
      "22500/22500 [==============================] - 7s 305us/step - loss: 0.2419 - acc: 0.8970 - val_loss: 0.3343 - val_acc: 0.8540\n",
      "Epoch 26/30\n",
      "22500/22500 [==============================] - 7s 305us/step - loss: 0.2360 - acc: 0.8986 - val_loss: 0.3784 - val_acc: 0.8496\n",
      "Epoch 27/30\n",
      "22500/22500 [==============================] - 7s 304us/step - loss: 0.2360 - acc: 0.9012 - val_loss: 0.3826 - val_acc: 0.8392\n",
      "Epoch 28/30\n",
      "22500/22500 [==============================] - 7s 305us/step - loss: 0.2268 - acc: 0.9064 - val_loss: 0.4084 - val_acc: 0.8520\n",
      "Epoch 29/30\n",
      "22500/22500 [==============================] - 7s 304us/step - loss: 0.2244 - acc: 0.9075 - val_loss: 0.4525 - val_acc: 0.8400\n",
      "Epoch 30/30\n",
      "22500/22500 [==============================] - 7s 304us/step - loss: 0.2212 - acc: 0.9096 - val_loss: 0.3812 - val_acc: 0.8284\n",
      "2500/2500 [==============================] - 0s 176us/step\n",
      "[0.38123664588928224, 0.8283999996185303]\n"
     ]
    }
   ],
   "source": [
    "# This is Plan B\n",
    "\n",
    "from keras.models import Sequential\n",
    "from keras.layers import Dense, Dropout, Flatten\n",
    "from keras.layers.convolutional import Conv2D\n",
    "from keras.layers.pooling import MaxPooling2D\n",
    "\n",
    "model = Sequential()\n",
    "\n",
    "model.add(Conv2D(8, (3, 3), activation='relu', input_shape=(imageSize, imageSize, 3)))\n",
    "model.add(Conv2D(8, (3, 3), activation='relu'))\n",
    "model.add(MaxPooling2D(pool_size=(2, 2)))\n",
    "\n",
    "model.add(Conv2D(16, (3, 3), activation='relu')) #64\n",
    "model.add(Conv2D(16, (3, 3), activation='relu'))\n",
    "model.add(Conv2D(16, (3, 3), activation='relu'))\n",
    "model.add(MaxPooling2D(pool_size=(2, 2)))\n",
    "model.add(Dropout(0.1))\n",
    "\n",
    "model.add(Conv2D(32, (3, 3), activation='relu')) #32\n",
    "model.add(Conv2D(32, (3, 3), activation='relu'))\n",
    "model.add(Conv2D(32, (3, 3), activation='relu'))\n",
    "model.add(MaxPooling2D(pool_size=(2, 2)))\n",
    "model.add(Dropout(0.1))\n",
    "\n",
    "model.add(Conv2D(64, (3, 3), activation='relu')) #16\n",
    "model.add(Conv2D(64, (3, 3), activation='relu'))\n",
    "model.add(Conv2D(64, (3, 3), activation='relu'))\n",
    "model.add(MaxPooling2D(pool_size=(2, 2)))\n",
    "model.add(Dropout(0.1))\n",
    "\n",
    "# model.add(Conv2D(128, (3, 3), activation='relu')) #8\n",
    "# model.add(Conv2D(128, (3, 3), activation='relu'))\n",
    "# model.add(Conv2D(128, (3, 3), activation='relu'))\n",
    "# model.add(MaxPooling2D(pool_size=(2, 2)))\n",
    "# model.add(Dropout(0.1))\n",
    "\n",
    "model.add(Flatten())\n",
    "model.add(Dense(256, activation='relu'))\n",
    "model.add(Dense(256, activation='relu'))\n",
    "model.add(Dense(256, activation='relu'))\n",
    "# model.add(MaxPooling2D(pool_size=(2, 2)))\n",
    "model.add(Dropout(0.2))\n",
    "\n",
    "model.add(Dense(1, activation='sigmoid'))\n",
    "\n",
    "\n",
    "model.compile(loss='binary_crossentropy', optimizer='rmsprop',\n",
    "              metrics=['accuracy'])\n",
    "\n",
    "history = model.fit(train_feature, train_label, batch_size=batch_size, epochs=30, validation_data=(validation_feature, validation_label))\n",
    "\n",
    "pre_val_label = model.predict(x=validation_feature, batch_size=batch_size)\n",
    "# for i in range(pre_val_label.size):\n",
    "#     print(str(i) + \": \" + str(pre_val_label[i]))\n",
    "score = model.evaluate(validation_feature, validation_label, batch_size=batch_size)\n",
    "print (score)"
   ]
  },
  {
   "cell_type": "code",
   "execution_count": null,
   "metadata": {},
   "outputs": [],
   "source": [
    "# score the model\n",
    "\n",
    "score = score_fun(pre_val_label)\n",
    "\n",
    "print (score)"
   ]
  },
  {
   "cell_type": "code",
   "execution_count": 34,
   "metadata": {},
   "outputs": [],
   "source": [
    "# save weights\n",
    "model.save_weights('weights.h5')"
   ]
  },
  {
   "cell_type": "code",
   "execution_count": 35,
   "metadata": {},
   "outputs": [
    {
     "name": "stdout",
     "output_type": "stream",
     "text": [
      "<class 'numpy.ndarray'>\n",
      "12500\n"
     ]
    }
   ],
   "source": [
    "import helper\n",
    "\n",
    "test_files = helper.get_test_files()\n",
    "test_files = sorted(test_files, key=lambda s: (len(s), s))\n",
    "\n",
    "test_file_size = 128 if is_debug else len(test_files)\n",
    "\n",
    "test_feature = []\n",
    "for i in range(test_file_size):\n",
    "    test_feature.append(readImage(test_files[i]))\n",
    "test_feature = np.asarray(test_feature)\n",
    "print(type(test_feature))\n",
    "test_label = model.predict(test_feature, batch_size=batch_size)\n",
    "print (len(test_label))"
   ]
  },
  {
   "cell_type": "code",
   "execution_count": 36,
   "metadata": {},
   "outputs": [
    {
     "name": "stdout",
     "output_type": "stream",
     "text": [
      "12500\n",
      "done\n"
     ]
    }
   ],
   "source": [
    "test_label_output = []\n",
    "for i in range(len(test_label)):\n",
    "    test_label_output.append([i + 1, test_label[i]])\n",
    "    \n",
    "print (len(test_label_output))\n",
    "test_label_output = np.array(test_label_output)\n",
    "np.savetxt(\"submission.csv\", test_label_output, fmt='%d,%f', delimiter=',', header=\"id,label\", comments=\"\")\n",
    "print('done')"
   ]
  },
  {
   "cell_type": "code",
   "execution_count": 40,
   "metadata": {},
   "outputs": [
    {
     "name": "stdout",
     "output_type": "stream",
     "text": [
      "<keras.callbacks.History object at 0x7f2e1003a550>\n"
     ]
    },
    {
     "data": {
      "text/plain": [
       "Text(0.5,1,'Accuracy Curves')"
      ]
     },
     "execution_count": 40,
     "metadata": {},
     "output_type": "execute_result"
    },
    {
     "data": {
      "image/png": "[encoded data removed]",
      "text/plain": [
       "<Figure size 576x432 with 1 Axes>"
      ]
     },
     "metadata": {},
     "output_type": "display_data"
    },
    {
     "data": {
      "image/png": "[encoded data removed]",
      "text/plain": [
       "<Figure size 576x432 with 1 Axes>"
      ]
     },
     "metadata": {},
     "output_type": "display_data"
    }
   ],
   "source": [
    "import matplotlib.pyplot as plt\n",
    "\n",
    "print (history)\n",
    "# Loss Curves\n",
    "plt.figure(figsize=[8,6])\n",
    "plt.plot(history.history['loss'],'r',linewidth=3.0)\n",
    "plt.plot(history.history['val_loss'],'b',linewidth=3.0)\n",
    "plt.legend(['Training loss', 'Validation Loss'],fontsize=18)\n",
    "plt.xlabel('Epochs ',fontsize=16)\n",
    "plt.ylabel('Loss',fontsize=16)\n",
    "plt.title('Loss Curves',fontsize=16)\n",
    " \n",
    "# Accuracy Curves\n",
    "plt.figure(figsize=[8,6])\n",
    "plt.plot(history.history['acc'],'r',linewidth=3.0)\n",
    "plt.plot(history.history['val_acc'],'b',linewidth=3.0)\n",
    "plt.legend(['Training Accuracy', 'Validation Accuracy'],fontsize=18)\n",
    "plt.xlabel('Epochs ',fontsize=16)\n",
    "plt.ylabel('Accuracy',fontsize=16)\n",
    "plt.title('Accuracy Curves',fontsize=16)"
   ]
  },
  {
   "cell_type": "code",
   "execution_count": 14,
   "metadata": {},
   "outputs": [],
   "source": [
    "# import numpy as np\n",
    "\n",
    "# csv_array= np.array([(1, 1.2),(2, 2.3),(3, 3.4)])\n",
    "# np.savetxt(\"array.csv\", csv_array, fmt='%d,%f',delimiter=',', header=\"id,label\", comments=\"\")"
   ]
  },
  {
   "cell_type": "code",
   "execution_count": null,
   "metadata": {},
   "outputs": [],
   "source": []
  }
 ],
 "metadata": {
  "kernelspec": {
   "display_name": "Environment (conda_tensorflow_p36)",
   "language": "python",
   "name": "conda_tensorflow_p36"
  },
  "language_info": {
   "codemirror_mode": {
    "name": "ipython",
    "version": 3
   },
   "file_extension": ".py",
   "mimetype": "text/x-python",
   "name": "python",
   "nbconvert_exporter": "python",
   "pygments_lexer": "ipython3",
   "version": "3.6.4"
  }
 },
 "nbformat": 4,
 "nbformat_minor": 2
}
