{
 "cells": [
  {
   "cell_type": "code",
   "execution_count": 9,
   "metadata": {},
   "outputs": [],
   "source": [
    "# read dataset one image\n",
    "from keras.preprocessing import image\n",
    "\n",
    "imageSize = 128\n",
    "is_debug = False\n",
    "\n",
    "def readImage(path):\n",
    "    img = image.load_img(path, target_size=(imageSize, imageSize))\n",
    "    x = image.img_to_array(img)\n",
    "    x = x.astype('float32')\n",
    "    x /= 255\n",
    "    return x"
   ]
  },
  {
   "cell_type": "code",
   "execution_count": 10,
   "metadata": {},
   "outputs": [
    {
     "name": "stdout",
     "output_type": "stream",
     "text": [
      "getLabel done\n"
     ]
    }
   ],
   "source": [
    "def getLabel(path):\n",
    "    name = path[path.rfind('/') + 1:path.index('.')]\n",
    "#     print (name)\n",
    "    return 1 if name == 'dog' else 0\n",
    "print (\"getLabel done\")"
   ]
  },
  {
   "cell_type": "code",
   "execution_count": 11,
   "metadata": {},
   "outputs": [],
   "source": [
    "import helper\n",
    "\n",
    "def readFeatureAndLabel():\n",
    "    train_files = helper.get_train_files()\n",
    "    file_count = 1024 if is_debug else len(train_files)\n",
    "    print(\"readFeatureAndLabel file_count=\" + str(file_count))\n",
    "    train_feature = []\n",
    "    train_label = []\n",
    "    for i in range(file_count):\n",
    "        f = train_files[i]\n",
    "#         print (f)\n",
    "        train_feature.append(readImage(f))\n",
    "        train_label.append(getLabel(f))\n",
    "    \n",
    "    return train_feature, train_label"
   ]
  },
  {
   "cell_type": "code",
   "execution_count": 12,
   "metadata": {},
   "outputs": [
    {
     "name": "stdout",
     "output_type": "stream",
     "text": [
      "readFeatureAndLabel file_count=1024\n"
     ]
    }
   ],
   "source": [
    "import numpy as np\n",
    "\n",
    "total_feature, total_label = readFeatureAndLabel()\n",
    "total_feature = np.array(total_feature)\n",
    "# total_feature = total_feature.astype('float32')\n",
    "# total_feature /= 255\n",
    "\n",
    "total_label = np.array(total_label)\n",
    "# print (total_label)"
   ]
  },
  {
   "cell_type": "code",
   "execution_count": 13,
   "metadata": {},
   "outputs": [],
   "source": [
    "# split train_feature, train_label, validation_feature, validation_label\n",
    "from sklearn.model_selection import train_test_split\n",
    "train_feature, validation_feature, train_label, validation_label = train_test_split(total_feature, total_label, test_size=0.1, random_state=1)\n",
    "    \n",
    "# print (train_label)"
   ]
  },
  {
   "cell_type": "code",
   "execution_count": 20,
   "metadata": {},
   "outputs": [
    {
     "name": "stdout",
     "output_type": "stream",
     "text": [
      "<class 'numpy.ndarray'>\n"
     ]
    }
   ],
   "source": [
    "print(type(train_feature))"
   ]
  },
  {
   "cell_type": "code",
   "execution_count": 14,
   "metadata": {},
   "outputs": [],
   "source": [
    "import math\n",
    "\n",
    "def score_fun(label_pre):\n",
    "    total_score = 0\n",
    "    size = validation_label.size\n",
    "    for i in range(size):\n",
    "        y = validation_label[i]\n",
    "        yp = label_pre[i]\n",
    "#         print (str(y) + \" \" + str(yp))\n",
    "        try:\n",
    "            total_score = y * math.log(yp) + (1 - y)*math.log(1-yp)\n",
    "        except:\n",
    "            print (str(i) + \": \" + str(y) + \" - \" + str(yp))\n",
    "    return -total_score/size"
   ]
  },
  {
   "cell_type": "code",
   "execution_count": 15,
   "metadata": {},
   "outputs": [
    {
     "name": "stdout",
     "output_type": "stream",
     "text": [
      "Train on 921 samples, validate on 103 samples\n",
      "Epoch 1/10\n",
      "921/921 [==============================] - 92s 100ms/step - loss: 0.8263 - acc: 0.5136 - val_loss: 0.6927 - val_acc: 0.5243\n",
      "Epoch 2/10\n",
      "921/921 [==============================] - 93s 101ms/step - loss: 0.7008 - acc: 0.5472 - val_loss: 0.7358 - val_acc: 0.4757\n",
      "Epoch 3/10\n",
      "921/921 [==============================] - 93s 101ms/step - loss: 0.6739 - acc: 0.6135 - val_loss: 0.6864 - val_acc: 0.5728\n",
      "Epoch 4/10\n",
      "921/921 [==============================] - 99s 108ms/step - loss: 0.6825 - acc: 0.6352 - val_loss: 0.7054 - val_acc: 0.5340\n",
      "Epoch 5/10\n",
      "921/921 [==============================] - 99s 108ms/step - loss: 0.6277 - acc: 0.6710 - val_loss: 1.1850 - val_acc: 0.4951\n",
      "Epoch 6/10\n",
      "921/921 [==============================] - 102s 111ms/step - loss: 0.5932 - acc: 0.7177 - val_loss: 0.7396 - val_acc: 0.6214\n",
      "Epoch 7/10\n",
      "921/921 [==============================] - 94s 102ms/step - loss: 0.4851 - acc: 0.7709 - val_loss: 0.7489 - val_acc: 0.5631\n",
      "Epoch 8/10\n",
      "921/921 [==============================] - 90s 98ms/step - loss: 0.4104 - acc: 0.8306 - val_loss: 0.8033 - val_acc: 0.5340\n",
      "Epoch 9/10\n",
      "921/921 [==============================] - 95s 103ms/step - loss: 0.3494 - acc: 0.8621 - val_loss: 1.1084 - val_acc: 0.4951\n",
      "Epoch 10/10\n",
      "921/921 [==============================] - 95s 103ms/step - loss: 0.3152 - acc: 0.8838 - val_loss: 1.4368 - val_acc: 0.5437\n",
      "0: [0.09079538]\n",
      "1: [0.00656988]\n",
      "2: [0.18281412]\n",
      "3: [0.6524658]\n",
      "4: [0.01819674]\n",
      "5: [0.6246056]\n",
      "6: [0.00860166]\n",
      "7: [0.17745721]\n",
      "8: [0.04235994]\n",
      "9: [0.500625]\n",
      "10: [0.0500339]\n",
      "11: [0.8615503]\n",
      "12: [0.9467236]\n",
      "13: [0.70683503]\n",
      "14: [0.9143434]\n",
      "15: [0.00330901]\n",
      "16: [0.01329117]\n",
      "17: [0.02343081]\n",
      "18: [0.07804729]\n",
      "19: [0.9766699]\n",
      "20: [0.7314545]\n",
      "21: [0.6820823]\n",
      "22: [0.3600426]\n",
      "23: [0.60128444]\n",
      "24: [2.195965e-06]\n",
      "25: [0.00466921]\n",
      "26: [0.7881074]\n",
      "27: [0.4164023]\n",
      "28: [0.03711015]\n",
      "29: [0.9872341]\n",
      "30: [8.224119e-06]\n",
      "31: [0.18410969]\n",
      "32: [0.02212207]\n",
      "33: [0.955988]\n",
      "34: [0.04824639]\n",
      "35: [0.00447693]\n",
      "36: [0.8446992]\n",
      "37: [0.00011146]\n",
      "38: [0.81159633]\n",
      "39: [0.5409508]\n",
      "40: [0.992007]\n",
      "41: [0.38037813]\n",
      "42: [0.996994]\n",
      "43: [0.08266976]\n",
      "44: [0.00047062]\n",
      "45: [0.26195046]\n",
      "46: [0.04566048]\n",
      "47: [0.00127]\n",
      "48: [0.00277843]\n",
      "49: [0.04515623]\n",
      "50: [0.22816056]\n",
      "51: [0.99998605]\n",
      "52: [0.04225739]\n",
      "53: [0.9459067]\n",
      "54: [0.7348822]\n",
      "55: [0.05951257]\n",
      "56: [0.632278]\n",
      "57: [0.48631147]\n",
      "58: [0.77107257]\n",
      "59: [0.0005321]\n",
      "60: [0.00969979]\n",
      "61: [0.71693456]\n",
      "62: [0.8437247]\n",
      "63: [0.810236]\n",
      "64: [4.745705e-05]\n",
      "65: [0.98040694]\n",
      "66: [0.1426863]\n",
      "67: [0.9903696]\n",
      "68: [0.645788]\n",
      "69: [0.3413803]\n",
      "70: [0.0038186]\n",
      "71: [0.19735885]\n",
      "72: [0.1336849]\n",
      "73: [0.00096387]\n",
      "74: [0.96898705]\n",
      "75: [0.01076019]\n",
      "76: [0.8236533]\n",
      "77: [0.6552735]\n",
      "78: [0.999979]\n",
      "79: [0.8332127]\n",
      "80: [0.7112061]\n",
      "81: [0.7222807]\n",
      "82: [0.16166905]\n",
      "83: [0.33899122]\n",
      "84: [0.30952278]\n",
      "85: [0.01784328]\n",
      "86: [0.32751238]\n",
      "87: [0.91518223]\n",
      "88: [0.0001227]\n",
      "89: [0.0538126]\n",
      "90: [0.24006493]\n",
      "91: [0.5853327]\n",
      "92: [0.22373368]\n",
      "93: [0.07623495]\n",
      "94: [0.78565145]\n",
      "95: [0.00496419]\n",
      "96: [0.12611963]\n",
      "97: [0.0008573]\n",
      "98: [0.9989812]\n",
      "99: [0.72162825]\n",
      "100: [0.626783]\n",
      "101: [0.04431966]\n",
      "102: [0.87370706]\n",
      "103/103 [==============================] - 3s 32ms/step\n",
      "[1.4367950113074293, 0.5436893206776925]\n"
     ]
    }
   ],
   "source": [
    "# convolutional\n",
    "from keras.models import Sequential\n",
    "from keras.layers import Dense, Dropout, Flatten\n",
    "from keras.layers.convolutional import Conv2D\n",
    "from keras.layers.pooling import MaxPooling2D\n",
    "from keras.optimizers import SGD\n",
    "\n",
    "model = Sequential()\n",
    "\n",
    "model.add(Conv2D(32, (3, 3), activation='relu', input_shape=(imageSize, imageSize, 3)))\n",
    "\n",
    "model.add(Conv2D(32, (3, 3), activation='relu'))\n",
    "model.add(MaxPooling2D(pool_size=(2, 2)))\n",
    "model.add(Dropout(0.25))\n",
    "\n",
    "model.add(Conv2D(64, (3, 3), activation='relu'))\n",
    "model.add(Conv2D(64, (3, 3), activation='relu'))\n",
    "model.add(MaxPooling2D(pool_size=(2, 2)))\n",
    "model.add(Dropout(0.25))\n",
    "\n",
    "model.add(Flatten())\n",
    "model.add(Dense(256, activation='relu'))\n",
    "model.add(Dropout(0.5))\n",
    "model.add(Dense(1, activation='sigmoid'))\n",
    "\n",
    "# sgd = SGD(lr=0.01, decay=1e-6, momentum=0.9, nesterov=True)\n",
    "model.compile(loss='binary_crossentropy', optimizer='rmsprop',\n",
    "              metrics=['accuracy'])\n",
    "\n",
    "model.fit(train_feature, train_label, batch_size=16, epochs=10, validation_data=(validation_feature, validation_label))\n",
    "\n",
    "pre_val_label = model.predict(x=validation_feature, batch_size=16)\n",
    "# for i in range(pre_val_label.size):\n",
    "#     print(str(i) + \": \" + str(pre_val_label[i]))\n",
    "score = model.evaluate(validation_feature, validation_label, batch_size=16)\n",
    "print (score)\n"
   ]
  },
  {
   "cell_type": "code",
   "execution_count": 16,
   "metadata": {},
   "outputs": [
    {
     "name": "stdout",
     "output_type": "stream",
     "text": [
      "0.0013107780161161018\n"
     ]
    }
   ],
   "source": [
    "# score the model\n",
    "\n",
    "score = score_fun(pre_val_label)\n",
    "\n",
    "print (score)"
   ]
  },
  {
   "cell_type": "code",
   "execution_count": 17,
   "metadata": {},
   "outputs": [],
   "source": [
    "# save weights\n",
    "model.save_weights('weights.h5')"
   ]
  },
  {
   "cell_type": "code",
   "execution_count": 23,
   "metadata": {},
   "outputs": [
    {
     "name": "stdout",
     "output_type": "stream",
     "text": [
      "<class 'numpy.ndarray'>\n",
      "128\n"
     ]
    }
   ],
   "source": [
    "import helper\n",
    "\n",
    "test_files = helper.get_test_files()\n",
    "test_files = sorted(test_files, key=lambda s: (len(s), s))\n",
    "\n",
    "test_file_size = 128 if is_debug else len(test_files)\n",
    "\n",
    "test_feature = []\n",
    "for i in range(test_file_size):\n",
    "    test_feature.append(readImage(test_files[i]))\n",
    "test_feature = np.asarray(test_feature)\n",
    "print(type(test_feature))\n",
    "test_label = model.predict(test_feature, batch_size=16)\n",
    "print (len(test_label))"
   ]
  },
  {
   "cell_type": "code",
   "execution_count": 37,
   "metadata": {},
   "outputs": [
    {
     "name": "stdout",
     "output_type": "stream",
     "text": [
      "128\n"
     ]
    }
   ],
   "source": [
    "test_label_output = []\n",
    "for i in range(len(test_label)):\n",
    "    test_label_output.append([i + 1, test_label[i]])\n",
    "    \n",
    "print (len(test_label_output))\n",
    "test_label_output = np.array(test_label_output)\n",
    "np.savetxt(\"test.csv\", test_label_output, delimiter=',', header=\"id,label\", comments=\"\")\n",
    "# np.savetxt('test.csv', test_label, delimiter=\",\")"
   ]
  },
  {
   "cell_type": "code",
   "execution_count": null,
   "metadata": {},
   "outputs": [],
   "source": []
  }
 ],
 "metadata": {
  "kernelspec": {
   "display_name": "Python 3",
   "language": "python",
   "name": "python3"
  },
  "language_info": {
   "codemirror_mode": {
    "name": "ipython",
    "version": 3
   },
   "file_extension": ".py",
   "mimetype": "text/x-python",
   "name": "python",
   "nbconvert_exporter": "python",
   "pygments_lexer": "ipython3",
   "version": "3.6.4"
  }
 },
 "nbformat": 4,
 "nbformat_minor": 2
}
