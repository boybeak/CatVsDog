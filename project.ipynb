{
 "cells": [
  {
   "cell_type": "code",
   "execution_count": 1,
   "metadata": {},
   "outputs": [
    {
     "name": "stderr",
     "output_type": "stream",
     "text": [
      "/home/ubuntu/anaconda3/envs/tensorflow_p36/lib/python3.6/site-packages/h5py/__init__.py:36: FutureWarning: Conversion of the second argument of issubdtype from `float` to `np.floating` is deprecated. In future, it will be treated as `np.float64 == np.dtype(float).type`.\n",
      "  from ._conv import register_converters as _register_converters\n",
      "Using TensorFlow backend.\n",
      "/home/ubuntu/anaconda3/envs/tensorflow_p36/lib/python3.6/site-packages/matplotlib/__init__.py:1067: UserWarning: Duplicate key in file \"/home/ubuntu/.config/matplotlib/matplotlibrc\", line #2\n",
      "  (fname, cnt))\n",
      "/home/ubuntu/anaconda3/envs/tensorflow_p36/lib/python3.6/site-packages/matplotlib/__init__.py:1067: UserWarning: Duplicate key in file \"/home/ubuntu/.config/matplotlib/matplotlibrc\", line #3\n",
      "  (fname, cnt))\n"
     ]
    }
   ],
   "source": [
    "# read dataset one image\n",
    "\n",
    "# image_size=128, batch_size:256, epochs=10, drop_out=0.25,0.5, score=2.6896452718267965e-05\n",
    "# image_size=128, batch_size:128, epochs=10, drop_out=0.25,0.5, score=2.0310855384028685e-05\n",
    "# image_size=128, batch_size:128, epochs=20, drop_out=0.25,0.5, score=1.1700560265438025e-06\n",
    "\n",
    "from keras.preprocessing import image\n",
    "\n",
    "imageSize = 128\n",
    "batch_size = 128\n",
    "is_debug = False\n",
    "\n",
    "def readImage(path):\n",
    "    img = image.load_img(path, target_size=(imageSize, imageSize))\n",
    "    x = image.img_to_array(img)\n",
    "    x = x.astype('float32')\n",
    "    x /= 255\n",
    "    return x"
   ]
  },
  {
   "cell_type": "code",
   "execution_count": 2,
   "metadata": {},
   "outputs": [
    {
     "name": "stdout",
     "output_type": "stream",
     "text": [
      "getLabel done\n"
     ]
    }
   ],
   "source": [
    "def getLabel(path):\n",
    "    name = path[path.rfind('/') + 1:path.index('.')]\n",
    "#     print (name)\n",
    "    return 1 if name == 'dog' else 0\n",
    "print (\"getLabel done\")"
   ]
  },
  {
   "cell_type": "code",
   "execution_count": 3,
   "metadata": {},
   "outputs": [],
   "source": [
    "import helper\n",
    "\n",
    "def readFeatureAndLabel():\n",
    "    train_files = helper.get_train_files()\n",
    "    file_count = 1024 if is_debug else len(train_files)\n",
    "    print(\"readFeatureAndLabel file_count=\" + str(file_count))\n",
    "    train_feature = []\n",
    "    train_label = []\n",
    "    for i in range(file_count):\n",
    "        f = train_files[i]\n",
    "#         print (f)\n",
    "        train_feature.append(readImage(f))\n",
    "        train_label.append(getLabel(f))\n",
    "    \n",
    "    return train_feature, train_label"
   ]
  },
  {
   "cell_type": "code",
   "execution_count": 4,
   "metadata": {},
   "outputs": [
    {
     "name": "stdout",
     "output_type": "stream",
     "text": [
      "readFeatureAndLabel file_count=25000\n"
     ]
    }
   ],
   "source": [
    "import numpy as np\n",
    "\n",
    "total_feature, total_label = readFeatureAndLabel()\n",
    "total_feature = np.array(total_feature)\n",
    "# total_feature = total_feature.astype('float32')\n",
    "# total_feature /= 255\n",
    "\n",
    "total_label = np.array(total_label)\n",
    "# print (total_label)"
   ]
  },
  {
   "cell_type": "code",
   "execution_count": 5,
   "metadata": {},
   "outputs": [
    {
     "name": "stdout",
     "output_type": "stream",
     "text": [
      "done\n"
     ]
    }
   ],
   "source": [
    "# split train_feature, train_label, validation_feature, validation_label\n",
    "from sklearn.model_selection import train_test_split\n",
    "train_feature, validation_feature, train_label, validation_label = train_test_split(total_feature, total_label, test_size=0.1, random_state=1)\n",
    "    \n",
    "# print (train_label)\n",
    "print(\"done\")"
   ]
  },
  {
   "cell_type": "code",
   "execution_count": 6,
   "metadata": {},
   "outputs": [
    {
     "name": "stdout",
     "output_type": "stream",
     "text": [
      "<class 'numpy.ndarray'>\n"
     ]
    }
   ],
   "source": [
    "print(type(train_feature))"
   ]
  },
  {
   "cell_type": "code",
   "execution_count": 7,
   "metadata": {},
   "outputs": [
    {
     "name": "stdout",
     "output_type": "stream",
     "text": [
      "done\n"
     ]
    }
   ],
   "source": [
    "import math\n",
    "\n",
    "def score_fun(label_pre):\n",
    "    total_score = 0\n",
    "    size = validation_label.size\n",
    "    for i in range(size):\n",
    "        y = validation_label[i]\n",
    "        yp = label_pre[i]\n",
    "#         print (str(y) + \" \" + str(yp))\n",
    "        try:\n",
    "            total_score = y * math.log(yp) + (1 - y)*math.log(1-yp)\n",
    "        except:\n",
    "            print (str(i) + \": \" + str(y) + \" - \" + str(yp))\n",
    "    return -total_score/size\n",
    "print(\"done\")"
   ]
  },
  {
   "cell_type": "code",
   "execution_count": 16,
   "metadata": {},
   "outputs": [
    {
     "name": "stdout",
     "output_type": "stream",
     "text": [
      "Train on 22500 samples, validate on 2500 samples\n",
      "Epoch 1/20\n",
      "22500/22500 [==============================] - 13s 569us/step - loss: 0.6753 - acc: 0.6013 - val_loss: 0.5636 - val_acc: 0.7036\n",
      "Epoch 2/20\n",
      "22500/22500 [==============================] - 12s 546us/step - loss: 0.5664 - acc: 0.7051 - val_loss: 0.5003 - val_acc: 0.7556\n",
      "Epoch 3/20\n",
      "22500/22500 [==============================] - 12s 549us/step - loss: 0.4932 - acc: 0.7602 - val_loss: 0.5196 - val_acc: 0.7296\n",
      "Epoch 4/20\n",
      "22500/22500 [==============================] - 12s 545us/step - loss: 0.4464 - acc: 0.7910 - val_loss: 0.4541 - val_acc: 0.7868\n",
      "Epoch 5/20\n",
      "22500/22500 [==============================] - 12s 546us/step - loss: 0.4008 - acc: 0.8149 - val_loss: 0.4571 - val_acc: 0.8020\n",
      "Epoch 6/20\n",
      "22500/22500 [==============================] - 12s 547us/step - loss: 0.3749 - acc: 0.8347 - val_loss: 0.4542 - val_acc: 0.8048\n",
      "Epoch 7/20\n",
      "22500/22500 [==============================] - 12s 546us/step - loss: 0.3407 - acc: 0.8530 - val_loss: 0.4099 - val_acc: 0.8244\n",
      "Epoch 8/20\n",
      "22500/22500 [==============================] - 12s 546us/step - loss: 0.3059 - acc: 0.8712 - val_loss: 0.4183 - val_acc: 0.8096\n",
      "Epoch 9/20\n",
      "22500/22500 [==============================] - 12s 546us/step - loss: 0.2778 - acc: 0.8829 - val_loss: 0.4505 - val_acc: 0.8184\n",
      "Epoch 10/20\n",
      "22500/22500 [==============================] - 12s 546us/step - loss: 0.2608 - acc: 0.8909 - val_loss: 0.4117 - val_acc: 0.8360\n",
      "Epoch 11/20\n",
      "22500/22500 [==============================] - 12s 547us/step - loss: 0.2391 - acc: 0.9052 - val_loss: 0.4594 - val_acc: 0.8292\n",
      "Epoch 12/20\n",
      "22500/22500 [==============================] - 12s 546us/step - loss: 0.2190 - acc: 0.9121 - val_loss: 0.4907 - val_acc: 0.8164\n",
      "Epoch 13/20\n",
      "22500/22500 [==============================] - 12s 546us/step - loss: 0.2051 - acc: 0.9211 - val_loss: 0.4884 - val_acc: 0.7960\n",
      "Epoch 14/20\n",
      "22500/22500 [==============================] - 12s 546us/step - loss: 0.1936 - acc: 0.9246 - val_loss: 0.4249 - val_acc: 0.8308\n",
      "Epoch 15/20\n",
      "22500/22500 [==============================] - 12s 546us/step - loss: 0.1772 - acc: 0.9304 - val_loss: 0.4848 - val_acc: 0.8288\n",
      "Epoch 16/20\n",
      "22500/22500 [==============================] - 12s 547us/step - loss: 0.1660 - acc: 0.9367 - val_loss: 0.5878 - val_acc: 0.8292\n",
      "Epoch 17/20\n",
      "22500/22500 [==============================] - 12s 546us/step - loss: 0.1633 - acc: 0.9374 - val_loss: 0.7361 - val_acc: 0.8376\n",
      "Epoch 18/20\n",
      "22500/22500 [==============================] - 12s 545us/step - loss: 0.1563 - acc: 0.9421 - val_loss: 0.4947 - val_acc: 0.8184\n",
      "Epoch 19/20\n",
      "22500/22500 [==============================] - 12s 545us/step - loss: 0.1561 - acc: 0.9435 - val_loss: 0.6612 - val_acc: 0.8452\n",
      "Epoch 20/20\n",
      "22500/22500 [==============================] - 12s 546us/step - loss: 0.1658 - acc: 0.9388 - val_loss: 0.6624 - val_acc: 0.8492\n",
      "2500/2500 [==============================] - 1s 209us/step\n",
      "[0.662449137210846, 0.8491999995231628]\n"
     ]
    }
   ],
   "source": [
    "# convolutional\n",
    "from keras.models import Sequential\n",
    "from keras.layers import Dense, Dropout, Flatten\n",
    "from keras.layers.convolutional import Conv2D\n",
    "from keras.layers.pooling import MaxPooling2D\n",
    "from keras.optimizers import SGD\n",
    "\n",
    "model = Sequential()\n",
    "\n",
    "model.add(Conv2D(32, (3, 3), activation='relu', input_shape=(imageSize, imageSize, 3)))\n",
    "\n",
    "model.add(Conv2D(32, (3, 3), activation='relu'))\n",
    "model.add(MaxPooling2D(pool_size=(2, 2)))\n",
    "model.add(Dropout(0.25))\n",
    "\n",
    "model.add(Conv2D(64, (3, 3), activation='relu'))\n",
    "model.add(Conv2D(64, (3, 3), activation='relu'))\n",
    "model.add(MaxPooling2D(pool_size=(2, 2)))\n",
    "model.add(Dropout(0.25))\n",
    "\n",
    "model.add(Flatten())\n",
    "model.add(Dense(256, activation='relu'))\n",
    "model.add(Dropout(0.5))\n",
    "model.add(Dense(1, activation='sigmoid'))\n",
    "\n",
    "# sgd = SGD(lr=0.01, decay=1e-6, momentum=0.9, nesterov=True)\n",
    "model.compile(loss='binary_crossentropy', optimizer='rmsprop',\n",
    "              metrics=['accuracy'])\n",
    "\n",
    "history = model.fit(train_feature, train_label, batch_size=batch_size, epochs=20, validation_data=(validation_feature, validation_label))\n",
    "\n",
    "pre_val_label = model.predict(x=validation_feature, batch_size=batch_size)\n",
    "# for i in range(pre_val_label.size):\n",
    "#     print(str(i) + \": \" + str(pre_val_label[i]))\n",
    "score = model.evaluate(validation_feature, validation_label, batch_size=batch_size)\n",
    "print (score)\n"
   ]
  },
  {
   "cell_type": "code",
   "execution_count": 17,
   "metadata": {},
   "outputs": [
    {
     "name": "stdout",
     "output_type": "stream",
     "text": [
      "34: 1 - [1.]\n",
      "38: 1 - [1.]\n",
      "45: 1 - [1.]\n",
      "62: 1 - [1.]\n",
      "65: 1 - [1.]\n",
      "102: 1 - [1.]\n",
      "108: 1 - [1.]\n",
      "148: 1 - [1.]\n",
      "153: 1 - [1.]\n",
      "155: 1 - [1.]\n",
      "171: 1 - [1.]\n",
      "172: 1 - [1.]\n",
      "203: 1 - [1.]\n",
      "207: 1 - [1.]\n",
      "216: 1 - [1.]\n",
      "219: 1 - [1.]\n",
      "232: 1 - [1.]\n",
      "242: 1 - [1.]\n",
      "257: 1 - [1.]\n",
      "261: 1 - [1.]\n",
      "267: 1 - [1.]\n",
      "272: 1 - [1.]\n",
      "276: 1 - [1.]\n",
      "290: 1 - [1.]\n",
      "322: 1 - [1.]\n",
      "325: 1 - [1.]\n",
      "326: 1 - [1.]\n",
      "336: 1 - [1.]\n",
      "360: 1 - [1.]\n",
      "371: 1 - [1.]\n",
      "372: 1 - [1.]\n",
      "373: 1 - [1.]\n",
      "395: 1 - [1.]\n",
      "399: 1 - [1.]\n",
      "423: 1 - [1.]\n",
      "464: 1 - [1.]\n",
      "475: 1 - [1.]\n",
      "482: 1 - [1.]\n",
      "486: 1 - [1.]\n",
      "500: 1 - [1.]\n",
      "513: 1 - [1.]\n",
      "518: 1 - [1.]\n",
      "522: 1 - [1.]\n",
      "531: 1 - [1.]\n",
      "534: 1 - [1.]\n",
      "546: 1 - [1.]\n",
      "586: 1 - [1.]\n",
      "596: 1 - [1.]\n",
      "621: 1 - [1.]\n",
      "635: 1 - [1.]\n",
      "644: 1 - [1.]\n",
      "656: 0 - [1.]\n",
      "657: 1 - [1.]\n",
      "683: 1 - [1.]\n",
      "698: 1 - [1.]\n",
      "700: 1 - [1.]\n",
      "702: 1 - [1.]\n",
      "713: 1 - [1.]\n",
      "717: 1 - [1.]\n",
      "720: 1 - [1.]\n",
      "733: 1 - [1.]\n",
      "735: 1 - [1.]\n",
      "739: 1 - [1.]\n",
      "745: 0 - [1.]\n",
      "748: 1 - [1.]\n",
      "751: 1 - [1.]\n",
      "755: 0 - [1.]\n",
      "759: 1 - [1.]\n",
      "766: 1 - [1.]\n",
      "769: 1 - [1.]\n",
      "770: 1 - [1.]\n",
      "788: 1 - [1.]\n",
      "789: 1 - [1.]\n",
      "806: 1 - [1.]\n",
      "812: 0 - [1.]\n",
      "852: 1 - [1.]\n",
      "854: 1 - [1.]\n",
      "869: 1 - [1.]\n",
      "880: 1 - [1.]\n",
      "887: 1 - [1.]\n",
      "888: 1 - [1.]\n",
      "900: 1 - [1.]\n",
      "901: 1 - [1.]\n",
      "902: 1 - [1.]\n",
      "909: 1 - [1.]\n",
      "928: 1 - [1.]\n",
      "931: 1 - [1.]\n",
      "944: 1 - [1.]\n",
      "997: 1 - [1.]\n",
      "1001: 1 - [1.]\n",
      "1002: 1 - [1.]\n",
      "1020: 1 - [1.]\n",
      "1029: 1 - [1.]\n",
      "1047: 1 - [1.]\n",
      "1051: 1 - [1.]\n",
      "1079: 1 - [1.]\n",
      "1089: 1 - [1.]\n",
      "1112: 1 - [1.]\n",
      "1129: 1 - [1.]\n",
      "1140: 1 - [1.]\n",
      "1169: 1 - [1.]\n",
      "1170: 1 - [1.]\n",
      "1172: 1 - [1.]\n",
      "1175: 1 - [1.]\n",
      "1180: 1 - [1.]\n",
      "1183: 1 - [1.]\n",
      "1185: 1 - [1.]\n",
      "1209: 1 - [1.]\n",
      "1213: 1 - [1.]\n",
      "1218: 1 - [1.]\n",
      "1219: 1 - [1.]\n",
      "1225: 1 - [1.]\n",
      "1231: 1 - [1.]\n",
      "1262: 1 - [1.]\n",
      "1305: 1 - [1.]\n",
      "1329: 1 - [1.]\n",
      "1332: 1 - [1.]\n",
      "1335: 1 - [1.]\n",
      "1342: 1 - [1.]\n",
      "1352: 1 - [1.]\n",
      "1361: 1 - [1.]\n",
      "1367: 1 - [1.]\n",
      "1373: 1 - [1.]\n",
      "1382: 1 - [1.]\n",
      "1386: 1 - [1.]\n",
      "1388: 1 - [1.]\n",
      "1394: 1 - [1.]\n",
      "1396: 1 - [1.]\n",
      "1402: 1 - [1.]\n",
      "1415: 1 - [1.]\n",
      "1435: 1 - [1.]\n",
      "1453: 1 - [1.]\n",
      "1456: 1 - [1.]\n",
      "1461: 1 - [1.]\n",
      "1479: 0 - [1.]\n",
      "1490: 1 - [1.]\n",
      "1492: 1 - [1.]\n",
      "1503: 1 - [1.]\n",
      "1507: 1 - [1.]\n",
      "1523: 1 - [1.]\n",
      "1537: 1 - [1.]\n",
      "1557: 1 - [1.]\n",
      "1569: 1 - [1.]\n",
      "1574: 1 - [1.]\n",
      "1603: 1 - [1.]\n",
      "1611: 1 - [1.]\n",
      "1616: 1 - [1.]\n",
      "1619: 1 - [1.]\n",
      "1623: 0 - [1.]\n",
      "1649: 1 - [1.]\n",
      "1650: 1 - [1.]\n",
      "1664: 1 - [1.]\n",
      "1667: 1 - [1.]\n",
      "1669: 1 - [1.]\n",
      "1673: 1 - [1.]\n",
      "1674: 1 - [1.]\n",
      "1679: 1 - [1.]\n",
      "1701: 1 - [1.]\n",
      "1720: 1 - [1.]\n",
      "1741: 1 - [1.]\n",
      "1765: 1 - [1.]\n",
      "1774: 1 - [1.]\n",
      "1806: 1 - [1.]\n",
      "1826: 1 - [1.]\n",
      "1848: 1 - [1.]\n",
      "1849: 1 - [1.]\n",
      "1860: 1 - [1.]\n",
      "1862: 1 - [1.]\n",
      "1865: 1 - [1.]\n",
      "1879: 1 - [1.]\n",
      "1907: 1 - [1.]\n",
      "1914: 1 - [1.]\n",
      "1924: 1 - [1.]\n",
      "1929: 1 - [1.]\n",
      "1932: 1 - [1.]\n",
      "1942: 1 - [1.]\n",
      "1945: 1 - [1.]\n",
      "1970: 1 - [1.]\n",
      "1972: 1 - [1.]\n",
      "1983: 1 - [1.]\n",
      "1993: 1 - [1.]\n",
      "1995: 1 - [1.]\n",
      "2005: 1 - [1.]\n",
      "2019: 1 - [1.]\n",
      "2034: 1 - [1.]\n",
      "2038: 1 - [1.]\n",
      "2050: 1 - [1.]\n",
      "2051: 1 - [1.]\n",
      "2066: 1 - [1.]\n",
      "2069: 0 - [1.]\n",
      "2072: 1 - [1.]\n",
      "2078: 1 - [1.]\n",
      "2099: 1 - [1.]\n",
      "2104: 1 - [1.]\n",
      "2126: 1 - [1.]\n",
      "2128: 1 - [1.]\n",
      "2143: 1 - [1.]\n",
      "2148: 1 - [1.]\n",
      "2164: 1 - [1.]\n",
      "2191: 1 - [1.]\n",
      "2206: 1 - [1.]\n",
      "2208: 1 - [1.]\n",
      "2216: 1 - [1.]\n",
      "2241: 1 - [1.]\n",
      "2244: 1 - [1.]\n",
      "2245: 1 - [1.]\n",
      "2247: 1 - [1.]\n",
      "2260: 1 - [1.]\n",
      "2269: 1 - [1.]\n",
      "2274: 1 - [1.]\n",
      "2286: 1 - [1.]\n",
      "2293: 1 - [1.]\n",
      "2298: 1 - [1.]\n",
      "2304: 0 - [1.]\n",
      "2307: 1 - [1.]\n",
      "2315: 1 - [1.]\n",
      "2328: 1 - [1.]\n",
      "2333: 1 - [1.]\n",
      "2335: 1 - [1.]\n",
      "2341: 1 - [1.]\n",
      "2346: 1 - [1.]\n",
      "2347: 1 - [1.]\n",
      "2372: 1 - [1.]\n",
      "2374: 1 - [1.]\n",
      "2393: 1 - [1.]\n",
      "2401: 1 - [1.]\n",
      "2438: 1 - [1.]\n",
      "2460: 1 - [1.]\n",
      "2461: 1 - [1.]\n",
      "2468: 1 - [1.]\n",
      "2471: 1 - [1.]\n",
      "2480: 1 - [1.]\n",
      "2481: 1 - [1.]\n",
      "2497: 1 - [1.]\n",
      "1.1700560265438025e-06\n"
     ]
    }
   ],
   "source": [
    "# score the model\n",
    "\n",
    "score = score_fun(pre_val_label)\n",
    "\n",
    "print (score)"
   ]
  },
  {
   "cell_type": "code",
   "execution_count": 18,
   "metadata": {},
   "outputs": [],
   "source": [
    "# save weights\n",
    "model.save_weights('weights.h5')"
   ]
  },
  {
   "cell_type": "code",
   "execution_count": null,
   "metadata": {},
   "outputs": [],
   "source": [
    "import helper\n",
    "\n",
    "test_files = helper.get_test_files()\n",
    "test_files = sorted(test_files, key=lambda s: (len(s), s))\n",
    "\n",
    "test_file_size = 128 if is_debug else len(test_files)\n",
    "\n",
    "test_feature = []\n",
    "for i in range(test_file_size):\n",
    "    test_feature.append(readImage(test_files[i]))\n",
    "test_feature = np.asarray(test_feature)\n",
    "print(type(test_feature))\n",
    "test_label = model.predict(test_feature, batch_size=batch_size)\n",
    "print (len(test_label))"
   ]
  },
  {
   "cell_type": "code",
   "execution_count": 12,
   "metadata": {},
   "outputs": [
    {
     "name": "stdout",
     "output_type": "stream",
     "text": [
      "12500\n",
      "done\n"
     ]
    }
   ],
   "source": [
    "test_label_output = []\n",
    "for i in range(len(test_label)):\n",
    "    test_label_output.append([i + 1, test_label[i]])\n",
    "    \n",
    "print (len(test_label_output))\n",
    "test_label_output = np.array(test_label_output)\n",
    "np.savetxt(\"submission.csv\", test_label_output, fmt='%d,%f', delimiter=',', header=\"id,label\", comments=\"\")\n",
    "print('done')"
   ]
  },
  {
   "cell_type": "code",
   "execution_count": 15,
   "metadata": {},
   "outputs": [
    {
     "name": "stdout",
     "output_type": "stream",
     "text": [
      "<keras.callbacks.History object at 0x7f072dfbbfd0>\n"
     ]
    },
    {
     "data": {
      "text/plain": [
       "Text(0.5,1,'Accuracy Curves')"
      ]
     },
     "execution_count": 15,
     "metadata": {},
     "output_type": "execute_result"
    },
    {
     "data": {
      "image/png": "[encoded data removed]",
      "text/plain": [
       "<Figure size 576x432 with 1 Axes>"
      ]
     },
     "metadata": {},
     "output_type": "display_data"
    },
    {
     "data": {
      "image/png": "[encoded data removed]",
      "text/plain": [
       "<Figure size 576x432 with 1 Axes>"
      ]
     },
     "metadata": {},
     "output_type": "display_data"
    }
   ],
   "source": [
    "import matplotlib.pyplot as plt\n",
    "\n",
    "print (history)\n",
    "# Loss Curves\n",
    "plt.figure(figsize=[8,6])\n",
    "plt.plot(history.history['loss'],'r',linewidth=3.0)\n",
    "plt.plot(history.history['val_loss'],'b',linewidth=3.0)\n",
    "plt.legend(['Training loss', 'Validation Loss'],fontsize=18)\n",
    "plt.xlabel('Epochs ',fontsize=16)\n",
    "plt.ylabel('Loss',fontsize=16)\n",
    "plt.title('Loss Curves',fontsize=16)\n",
    " \n",
    "# Accuracy Curves\n",
    "plt.figure(figsize=[8,6])\n",
    "plt.plot(history.history['acc'],'r',linewidth=3.0)\n",
    "plt.plot(history.history['val_acc'],'b',linewidth=3.0)\n",
    "plt.legend(['Training Accuracy', 'Validation Accuracy'],fontsize=18)\n",
    "plt.xlabel('Epochs ',fontsize=16)\n",
    "plt.ylabel('Accuracy',fontsize=16)\n",
    "plt.title('Accuracy Curves',fontsize=16)"
   ]
  },
  {
   "cell_type": "code",
   "execution_count": 14,
   "metadata": {},
   "outputs": [],
   "source": [
    "# import numpy as np\n",
    "\n",
    "# csv_array= np.array([(1, 1.2),(2, 2.3),(3, 3.4)])\n",
    "# np.savetxt(\"array.csv\", csv_array, fmt='%d,%f',delimiter=',', header=\"id,label\", comments=\"\")"
   ]
  },
  {
   "cell_type": "code",
   "execution_count": null,
   "metadata": {},
   "outputs": [],
   "source": []
  }
 ],
 "metadata": {
  "kernelspec": {
   "display_name": "Python 3",
   "language": "python",
   "name": "python3"
  },
  "language_info": {
   "codemirror_mode": {
    "name": "ipython",
    "version": 3
   },
   "file_extension": ".py",
   "mimetype": "text/x-python",
   "name": "python",
   "nbconvert_exporter": "python",
   "pygments_lexer": "ipython3",
   "version": "3.6.4"
  }
 },
 "nbformat": 4,
 "nbformat_minor": 2
}
