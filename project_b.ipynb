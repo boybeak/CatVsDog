{
 "cells": [
  {
   "cell_type": "code",
   "execution_count": 1,
   "metadata": {},
   "outputs": [],
   "source": [
    "# Some final variables\n",
    "image_size = 224\n",
    "batch_size = 128\n",
    "is_debug = False\n",
    "train_folder = \"sub_train/\" if is_debug else \"train/\"\n",
    "cat_count = 50 if is_debug else 12500\n",
    "dog_count = 50 if is_debug else 12500"
   ]
  },
  {
   "cell_type": "code",
   "execution_count": 2,
   "metadata": {},
   "outputs": [],
   "source": [
    "def get_train_files():\n",
    "    train_files = []\n",
    "    for i in range(cat_count):\n",
    "        train_files.append(train_folder + \"cat.\" + str(i) + \".jpg\")\n",
    "        \n",
    "    for i in range(dog_count):\n",
    "        train_files.append(train_folder + \"dog.\" + str(i) + \".jpg\")\n",
    "        \n",
    "    return train_files"
   ]
  },
  {
   "cell_type": "code",
   "execution_count": 3,
   "metadata": {},
   "outputs": [
    {
     "ename": "NameError",
     "evalue": "name 'keras' is not defined",
     "output_type": "error",
     "traceback": [
      "\u001b[0;31m---------------------------------------------------------------------------\u001b[0m",
      "\u001b[0;31mNameError\u001b[0m                                 Traceback (most recent call last)",
      "\u001b[0;32m<ipython-input-3-711c54e43087>\u001b[0m in \u001b[0;36m<module>\u001b[0;34m()\u001b[0m\n\u001b[0;32m----> 1\u001b[0;31m \u001b[0my_train\u001b[0m \u001b[0;34m=\u001b[0m \u001b[0mkeras\u001b[0m\u001b[0;34m.\u001b[0m\u001b[0mutils\u001b[0m\u001b[0;34m.\u001b[0m\u001b[0mto_categorical\u001b[0m\u001b[0;34m(\u001b[0m\u001b[0my_train\u001b[0m\u001b[0;34m,\u001b[0m \u001b[0;32mNone\u001b[0m\u001b[0;34m)\u001b[0m\u001b[0;34m\u001b[0m\u001b[0m\n\u001b[0m",
      "\u001b[0;31mNameError\u001b[0m: name 'keras' is not defined"
     ]
    }
   ],
   "source": [
    "# y_train = keras.utils.to_categorical(y_train, None)"
   ]
  },
  {
   "cell_type": "code",
   "execution_count": 4,
   "metadata": {},
   "outputs": [
    {
     "name": "stderr",
     "output_type": "stream",
     "text": [
      "/home/ubuntu/anaconda3/envs/tensorflow_p36/lib/python3.6/site-packages/matplotlib/__init__.py:1067: UserWarning: Duplicate key in file \"/home/ubuntu/.config/matplotlib/matplotlibrc\", line #2\n",
      "  (fname, cnt))\n",
      "/home/ubuntu/anaconda3/envs/tensorflow_p36/lib/python3.6/site-packages/matplotlib/__init__.py:1067: UserWarning: Duplicate key in file \"/home/ubuntu/.config/matplotlib/matplotlibrc\", line #3\n",
      "  (fname, cnt))\n"
     ]
    },
    {
     "data": {
      "text/plain": [
       "<Figure size 640x480 with 1 Axes>"
      ]
     },
     "metadata": {},
     "output_type": "display_data"
    },
    {
     "name": "stdout",
     "output_type": "stream",
     "text": [
      "train/cat.835.jpg\n"
     ]
    },
    {
     "data": {
      "text/plain": [
       "<Figure size 640x480 with 1 Axes>"
      ]
     },
     "metadata": {},
     "output_type": "display_data"
    },
    {
     "name": "stdout",
     "output_type": "stream",
     "text": [
      "train/dog.2317.jpg\n"
     ]
    }
   ],
   "source": [
    "import numpy as np\n",
    "import matplotlib.pyplot as plt\n",
    "from PIL import Image\n",
    "import matplotlib.image as mpimg\n",
    "\n",
    "train_files = get_train_files()\n",
    "train_files = sorted(train_files, key=lambda s: (len(s), s))\n",
    "\n",
    "xs = []\n",
    "ys = []\n",
    "for i in range(len(train_files)):\n",
    "    f = train_files[i]\n",
    "    im = Image.open(f)\n",
    "    width, height = im.size\n",
    "    if (width > 600 or height > 600):\n",
    "        img = mpimg.imread(f)\n",
    "        plt.imshow(img)\n",
    "        plt.show()\n",
    "        print(f)\n",
    "    xs.append(width)\n",
    "    ys.append(height)\n",
    "x_array = np.array(xs)\n",
    "y_array = np.array(ys)"
   ]
  },
  {
   "cell_type": "code",
   "execution_count": 5,
   "metadata": {},
   "outputs": [
    {
     "data": {
      "image/png": "[encoded data removed]",
      "text/plain": [
       "<Figure size 432x288 with 1 Axes>"
      ]
     },
     "metadata": {},
     "output_type": "display_data"
    }
   ],
   "source": [
    "plt.title('width and height')\n",
    "plt.xlabel('width')\n",
    "plt.ylabel('height')\n",
    "plt.scatter(x_array, y_array)\n",
    "plt.show()\n"
   ]
  },
  {
   "cell_type": "code",
   "execution_count": 6,
   "metadata": {},
   "outputs": [
    {
     "name": "stderr",
     "output_type": "stream",
     "text": [
      "/home/ubuntu/anaconda3/envs/tensorflow_p36/lib/python3.6/site-packages/h5py/__init__.py:36: FutureWarning: Conversion of the second argument of issubdtype from `float` to `np.floating` is deprecated. In future, it will be treated as `np.float64 == np.dtype(float).type`.\n",
      "  from ._conv import register_converters as _register_converters\n",
      "Using TensorFlow backend.\n"
     ]
    }
   ],
   "source": [
    "from keras.preprocessing import image\n",
    "\n",
    "def readImage(path):\n",
    "    img = image.load_img(path, target_size=(image_size, image_size))\n",
    "    x = image.img_to_array(img)\n",
    "    x = x.astype('float32')\n",
    "    x /= 255.0\n",
    "    return x"
   ]
  },
  {
   "cell_type": "code",
   "execution_count": 7,
   "metadata": {},
   "outputs": [],
   "source": [
    "def getLabel(path):\n",
    "    name = path[path.rfind('/') + 1:path.index('.')]\n",
    "#     print (name)\n",
    "    return 1 if name == 'dog' else 0"
   ]
  },
  {
   "cell_type": "code",
   "execution_count": 8,
   "metadata": {},
   "outputs": [],
   "source": [
    "from keras.applications.resnet50 import ResNet50\n",
    "\n",
    "model = ResNet50(weights='imagenet')  # 引入ResNet50模型"
   ]
  },
  {
   "cell_type": "code",
   "execution_count": 9,
   "metadata": {},
   "outputs": [],
   "source": [
    "from keras.preprocessing import image\n",
    "from keras.applications.resnet50 import preprocess_input, decode_predictions\n",
    "import numpy as np\n",
    "\n",
    "def getPreds(img_path): # 获取模型对某一张图片的预测top-50\n",
    "    img = image.load_img(img_path, target_size=(image_size, image_size))\n",
    "    x = image.img_to_array(img)\n",
    "    x = np.expand_dims(x, axis=0)\n",
    "    x = preprocess_input(x)\n",
    "    preds = model.predict(x)\n",
    "    result = decode_predictions(preds, top=50)[0]\n",
    "#     print('Predicted:', result)\n",
    "    return result"
   ]
  },
  {
   "cell_type": "code",
   "execution_count": 10,
   "metadata": {},
   "outputs": [],
   "source": [
    "dogs = [\n",
    " 'n02085620','n02085782','n02085936','n02086079'\n",
    ",'n02086240','n02086646','n02086910','n02087046'\n",
    ",'n02087394','n02088094','n02088238','n02088364'\n",
    ",'n02088466','n02088632','n02089078','n02089867'\n",
    ",'n02089973','n02090379','n02090622','n02090721'\n",
    ",'n02091032','n02091134','n02091244','n02091467'\n",
    ",'n02091635','n02091831','n02092002','n02092339'\n",
    ",'n02093256','n02093428','n02093647','n02093754'\n",
    ",'n02093859','n02093991','n02094114','n02094258'\n",
    ",'n02094433','n02095314','n02095570','n02095889'\n",
    ",'n02096051','n02096177','n02096294','n02096437'\n",
    ",'n02096585','n02097047','n02097130','n02097209'\n",
    ",'n02097298','n02097474','n02097658','n02098105'\n",
    ",'n02098286','n02098413','n02099267','n02099429'\n",
    ",'n02099601','n02099712','n02099849','n02100236'\n",
    ",'n02100583','n02100735','n02100877','n02101006'\n",
    ",'n02101388','n02101556','n02102040','n02102177'\n",
    ",'n02102318','n02102480','n02102973','n02104029'\n",
    ",'n02104365','n02105056','n02105162','n02105251'\n",
    ",'n02105412','n02105505','n02105641','n02105855'\n",
    ",'n02106030','n02106166','n02106382','n02106550'\n",
    ",'n02106662','n02107142','n02107312','n02107574'\n",
    ",'n02107683','n02107908','n02108000','n02108089'\n",
    ",'n02108422','n02108551','n02108915','n02109047'\n",
    ",'n02109525','n02109961','n02110063','n02110185'\n",
    ",'n02110341','n02110627','n02110806','n02110958'\n",
    ",'n02111129','n02111277','n02111500','n02111889'\n",
    ",'n02112018','n02112137','n02112350','n02112706'\n",
    ",'n02113023','n02113186','n02113624','n02113712'\n",
    ",'n02113799','n02113978']\n",
    "\n",
    "cats=[\n",
    "'n02123045','n02123159','n02123394','n02123597'\n",
    ",'n02124075','n02125311','n02127052']\n",
    "\n",
    "def isCat(preds): # 判断是否为猫\n",
    "    for item in preds:\n",
    "        if item[0] in cats:\n",
    "            return True\n",
    "    return False\n",
    "def isDog(preds): # 判断是否为狗\n",
    "    for item in preds:\n",
    "        if item[0] in dogs:\n",
    "            return True\n",
    "    return False\n",
    "def isValid(img_path): # 判断是否为合理的图片\n",
    "    label = getLabel(img_path)\n",
    "    preds = getPreds(img_path)\n",
    "    return {\n",
    "        0:isCat(preds),\n",
    "        1:isDog(preds)\n",
    "    }[label]\n",
    "\n",
    "\n",
    "# (x_train, y_train), (x_test, y_test) = cifar10.load_data()\n",
    "# y_train = np_utils.to_categorical(y_train, num_classes)\n",
    "# y_test = np_utils.to_categorical(y_test, num_classes)"
   ]
  },
  {
   "cell_type": "code",
   "execution_count": 11,
   "metadata": {},
   "outputs": [
    {
     "name": "stdout",
     "output_type": "stream",
     "text": [
      "25000 need to preprocess\n",
      "25000 files validpg\n",
      "\n",
      "164 invalid files as below:\n",
      "['train/cat.45.jpg', 'train/cat.169.jpg', 'train/cat.252.jpg', 'train/cat.297.jpg', 'train/cat.335.jpg', 'train/cat.372.jpg', 'train/cat.587.jpg', 'train/cat.599.jpg', 'train/cat.796.jpg', 'train/cat.1139.jpg', 'train/cat.1277.jpg', 'train/cat.1361.jpg', 'train/cat.1423.jpg', 'train/cat.1619.jpg', 'train/cat.1631.jpg', 'train/cat.2047.jpg', 'train/cat.2150.jpg', 'train/cat.2337.jpg', 'train/cat.2457.jpg', 'train/cat.2520.jpg', 'train/cat.2663.jpg', 'train/cat.2737.jpg', 'train/cat.2748.jpg', 'train/cat.2817.jpg', 'train/cat.2893.jpg', 'train/cat.2924.jpg', 'train/cat.2939.jpg', 'train/cat.3123.jpg', 'train/cat.3216.jpg', 'train/cat.3399.jpg', 'train/cat.3637.jpg', 'train/cat.3672.jpg', 'train/cat.3731.jpg', 'train/cat.3868.jpg', 'train/cat.4190.jpg', 'train/cat.4272.jpg', 'train/cat.4308.jpg', 'train/cat.4338.jpg', 'train/cat.4360.jpg', 'train/cat.4575.jpg', 'train/cat.4688.jpg', 'train/cat.4833.jpg', 'train/cat.4842.jpg', 'train/cat.4852.jpg', 'train/cat.4986.jpg', 'train/cat.5351.jpg', 'train/cat.5355.jpg', 'train/cat.5418.jpg', 'train/cat.5472.jpg', 'train/cat.5583.jpg', 'train/cat.5712.jpg', 'train/cat.5820.jpg', 'train/cat.5974.jpg', 'train/cat.6017.jpg', 'train/cat.6345.jpg', 'train/cat.6348.jpg', 'train/cat.6402.jpg', 'train/cat.6429.jpg', 'train/cat.6442.jpg', 'train/cat.6464.jpg', 'train/cat.6530.jpg', 'train/cat.6699.jpg', 'train/cat.6915.jpg', 'train/cat.7009.jpg', 'train/cat.7130.jpg', 'train/cat.7206.jpg', 'train/cat.7291.jpg', 'train/cat.7296.jpg', 'train/cat.7377.jpg', 'train/cat.7429.jpg', 'train/cat.7432.jpg', 'train/cat.7564.jpg', 'train/cat.7728.jpg', 'train/cat.7758.jpg', 'train/cat.7899.jpg', 'train/cat.7920.jpg', 'train/cat.7968.jpg', 'train/cat.8044.jpg', 'train/cat.8087.jpg', 'train/cat.8122.jpg', 'train/cat.8138.jpg', 'train/cat.8383.jpg', 'train/cat.8431.jpg', 'train/cat.8456.jpg', 'train/cat.8470.jpg', 'train/cat.8542.jpg', 'train/cat.8828.jpg', 'train/cat.8921.jpg', 'train/cat.9090.jpg', 'train/cat.9110.jpg', 'train/cat.9171.jpg', 'train/cat.9290.jpg', 'train/cat.9360.jpg', 'train/cat.9494.jpg', 'train/cat.9513.jpg', 'train/cat.9552.jpg', 'train/cat.9596.jpg', 'train/cat.9622.jpg', 'train/cat.9695.jpg', 'train/cat.9836.jpg', 'train/cat.9983.jpg', 'train/cat.9987.jpg', 'train/dog.1194.jpg', 'train/dog.1625.jpg', 'train/dog.1773.jpg', 'train/dog.2339.jpg', 'train/dog.2422.jpg', 'train/dog.2614.jpg', 'train/dog.4218.jpg', 'train/dog.4367.jpg', 'train/dog.4507.jpg', 'train/dog.5604.jpg', 'train/dog.6475.jpg', 'train/dog.6725.jpg', 'train/dog.7076.jpg', 'train/dog.7706.jpg', 'train/dog.8736.jpg', 'train/dog.9517.jpg', 'train/cat.10029.jpg', 'train/cat.10037.jpg', 'train/cat.10270.jpg', 'train/cat.10365.jpg', 'train/cat.10430.jpg', 'train/cat.10521.jpg', 'train/cat.10536.jpg', 'train/cat.10636.jpg', 'train/cat.10700.jpg', 'train/cat.10712.jpg', 'train/cat.10863.jpg', 'train/cat.10864.jpg', 'train/cat.10912.jpg', 'train/cat.10932.jpg', 'train/cat.11039.jpg', 'train/cat.11184.jpg', 'train/cat.11222.jpg', 'train/cat.11231.jpg', 'train/cat.11297.jpg', 'train/cat.11399.jpg', 'train/cat.11457.jpg', 'train/cat.11562.jpg', 'train/cat.11565.jpg', 'train/cat.11607.jpg', 'train/cat.11661.jpg', 'train/cat.11724.jpg', 'train/cat.11823.jpg', 'train/cat.11879.jpg', 'train/cat.11968.jpg', 'train/cat.12222.jpg', 'train/cat.12227.jpg', 'train/cat.12272.jpg', 'train/cat.12326.jpg', 'train/cat.12359.jpg', 'train/cat.12378.jpg', 'train/cat.12392.jpg', 'train/cat.12424.jpg', 'train/cat.12476.jpg', 'train/cat.12493.jpg', 'train/dog.10161.jpg', 'train/dog.10237.jpg', 'train/dog.10801.jpg', 'train/dog.11299.jpg', 'train/dog.11437.jpg', 'train/dog.12155.jpg', 'train/dog.12376.jpg']\n"
     ]
    }
   ],
   "source": [
    "# Preprocess pics\n",
    "# import helper\n",
    "\n",
    "valid_files = []\n",
    "invalid_files = []\n",
    "train_files = get_train_files()\n",
    "train_files = sorted(train_files, key=lambda s: (len(s), s))\n",
    "\n",
    "count = len(train_files)\n",
    "\n",
    "print(str(count) + \" need to preprocess\")\n",
    "for i in range(count):\n",
    "    file = train_files[i]\n",
    "    print (file, end='\\r')\n",
    "    if isValid(file):\n",
    "        valid_files.append(file)\n",
    "    else:\n",
    "        invalid_files.append(file)\n",
    "\n",
    "print (str(count) + \" files valid\\n\")\n",
    "print (str(len(invalid_files)) + \" invalid files as below:\\n\", end='\\r')\n",
    "print (invalid_files)"
   ]
  },
  {
   "cell_type": "code",
   "execution_count": 12,
   "metadata": {},
   "outputs": [],
   "source": [
    "def readFeatureAndLabel(valid_files):\n",
    "    file_count = len(valid_files)\n",
    "    print(\"readFeatureAndLabel file_count=\" + str(file_count))\n",
    "    train_feature = []\n",
    "    train_label = []\n",
    "    for i in range(file_count):\n",
    "        f = train_files[i]\n",
    "#         print (f)\n",
    "        train_feature.append(readImage(f))\n",
    "        train_label.append(getLabel(f))\n",
    "    \n",
    "    return train_feature, train_label"
   ]
  },
  {
   "cell_type": "code",
   "execution_count": 13,
   "metadata": {},
   "outputs": [
    {
     "name": "stdout",
     "output_type": "stream",
     "text": [
      "readFeatureAndLabel file_count=24836\n"
     ]
    }
   ],
   "source": [
    "import numpy as np\n",
    "from sklearn.model_selection import train_test_split\n",
    "\n",
    "total_feature, total_label = readFeatureAndLabel(valid_files)\n",
    "total_feature = np.array(total_feature)\n",
    "\n",
    "total_label = np.array(total_label)\n",
    "\n",
    "train_feature, validation_feature, train_label, validation_label = train_test_split(total_feature, total_label, test_size=0.1, random_state=1)"
   ]
  },
  {
   "cell_type": "code",
   "execution_count": 14,
   "metadata": {},
   "outputs": [],
   "source": [
    "# Make a ImageDataGenerator\n",
    "\n",
    "# ImageDataGenerator\n",
    "from keras.preprocessing.image import ImageDataGenerator\n",
    "\n",
    "train_datagen = ImageDataGenerator(featurewise_center=True,featurewise_std_normalization=True,rotation_range=20,width_shift_range=0.2,height_shift_range=0.2,horizontal_flip=True)\n",
    "train_datagen.fit(train_feature)\n",
    "\n",
    "train_gen = train_datagen.flow(train_feature, train_label, batch_size=batch_size)\n",
    "\n",
    "val_datagen = ImageDataGenerator(\n",
    "    featurewise_center=True,\n",
    "    featurewise_std_normalization=True,\n",
    "    rotation_range=20,\n",
    "    width_shift_range=0.2,\n",
    "    height_shift_range=0.2,\n",
    "    horizontal_flip=True)\n",
    "val_datagen.fit(validation_feature)\n",
    "\n",
    "val_gen = val_datagen.flow(validation_feature, validation_label, batch_size=batch_size)"
   ]
  },
  {
   "cell_type": "code",
   "execution_count": 16,
   "metadata": {},
   "outputs": [
    {
     "name": "stdout",
     "output_type": "stream",
     "text": [
      "Epoch 1/10\n",
      "175/175 [==============================] - 262s 1s/step - loss: 0.3951 - acc: 0.8402 - val_loss: 0.6864 - val_acc: 0.6795\n",
      "Epoch 2/10\n",
      "175/175 [==============================] - 247s 1s/step - loss: 0.2171 - acc: 0.9222 - val_loss: 0.6928 - val_acc: 0.7122\n",
      "Epoch 3/10\n",
      "175/175 [==============================] - 248s 1s/step - loss: 0.1837 - acc: 0.9308 - val_loss: 0.9703 - val_acc: 0.6816\n",
      "Epoch 4/10\n",
      "175/175 [==============================] - 247s 1s/step - loss: 0.1649 - acc: 0.9372 - val_loss: 0.8025 - val_acc: 0.7017\n",
      "Epoch 5/10\n",
      "175/175 [==============================] - 247s 1s/step - loss: 0.1576 - acc: 0.9373 - val_loss: 0.8878 - val_acc: 0.6904\n",
      "Epoch 6/10\n",
      "175/175 [==============================] - 247s 1s/step - loss: 0.1532 - acc: 0.9382 - val_loss: 1.0548 - val_acc: 0.6928\n",
      "Epoch 7/10\n",
      "175/175 [==============================] - 248s 1s/step - loss: 0.1481 - acc: 0.9403 - val_loss: 0.9082 - val_acc: 0.7025\n",
      "Epoch 8/10\n",
      "175/175 [==============================] - 248s 1s/step - loss: 0.1461 - acc: 0.9418 - val_loss: 1.0686 - val_acc: 0.6924\n",
      "Epoch 9/10\n",
      "175/175 [==============================] - 247s 1s/step - loss: 0.1393 - acc: 0.9435 - val_loss: 1.1041 - val_acc: 0.6912\n",
      "Epoch 10/10\n",
      "175/175 [==============================] - 250s 1s/step - loss: 0.1390 - acc: 0.9435 - val_loss: 1.2052 - val_acc: 0.6856\n"
     ]
    }
   ],
   "source": [
    "# Plan C\n",
    "\n",
    "from keras.applications.inception_v3 import InceptionV3\n",
    "from keras.preprocessing import image\n",
    "from keras.models import Model\n",
    "from keras.layers import Dense, GlobalAveragePooling2D\n",
    "from keras.optimizers import Adam\n",
    "from keras import backend as K\n",
    "\n",
    "# 创建预训练模型\n",
    "base_model = InceptionV3(weights='imagenet', include_top=False)\n",
    "\n",
    "# 添加平均池化层\n",
    "x = base_model.output\n",
    "x = GlobalAveragePooling2D()(x)\n",
    "# 由于我们只需要狗的概率，所以设置参数classes为1，输出函数为sigmoid\n",
    "predictions = Dense(1, activation='sigmoid')(x)\n",
    "\n",
    "# 创建模型\n",
    "model = Model(inputs=base_model.input, outputs=predictions)\n",
    "\n",
    "# first: train only the top layers (which were randomly initialized)\n",
    "# i.e. freeze all convolutional InceptionV3 layers\n",
    "for layer in base_model.layers:\n",
    "    layer.trainable = False\n",
    "\n",
    "# compile the model (should be done *after* setting layers to non-trainable)\n",
    "# optimizer='rmsprop'\n",
    "# , beta_1=0.9, beta_2=0.999, epsilon=1e-08\n",
    "opt = Adam(lr=0.0005, beta_1=0.9, beta_2=0.999, epsilon=1e-08)\n",
    "model.compile(optimizer=opt, loss='binary_crossentropy', metrics=['accuracy'])\n",
    "\n",
    "# train the model on the new data for a few epochs\n",
    "history = model.fit_generator(train_gen, epochs=10, validation_data=val_gen)\n",
    "# history = model.fit(train_feature, train_label, batch_size=batch_size, epochs=20, validation_data=(validation_feature, validation_label))"
   ]
  },
  {
   "cell_type": "code",
   "execution_count": null,
   "metadata": {},
   "outputs": [
    {
     "name": "stdout",
     "output_type": "stream",
     "text": [
      "0 input_3\n",
      "1 conv2d_95\n",
      "2 batch_normalization_95\n",
      "3 activation_144\n",
      "4 conv2d_96\n",
      "5 batch_normalization_96\n",
      "6 activation_145\n",
      "7 conv2d_97\n",
      "8 batch_normalization_97\n",
      "9 activation_146\n",
      "10 max_pooling2d_6\n",
      "11 conv2d_98\n",
      "12 batch_normalization_98\n",
      "13 activation_147\n",
      "14 conv2d_99\n",
      "15 batch_normalization_99\n",
      "16 activation_148\n",
      "17 max_pooling2d_7\n",
      "18 conv2d_103\n",
      "19 batch_normalization_103\n",
      "20 activation_152\n",
      "21 conv2d_101\n",
      "22 conv2d_104\n",
      "23 batch_normalization_101\n",
      "24 batch_normalization_104\n",
      "25 activation_150\n",
      "26 activation_153\n",
      "27 average_pooling2d_10\n",
      "28 conv2d_100\n",
      "29 conv2d_102\n",
      "30 conv2d_105\n",
      "31 conv2d_106\n",
      "32 batch_normalization_100\n",
      "33 batch_normalization_102\n",
      "34 batch_normalization_105\n",
      "35 batch_normalization_106\n",
      "36 activation_149\n",
      "37 activation_151\n",
      "38 activation_154\n",
      "39 activation_155\n",
      "40 mixed0\n",
      "41 conv2d_110\n",
      "42 batch_normalization_110\n",
      "43 activation_159\n",
      "44 conv2d_108\n",
      "45 conv2d_111\n",
      "46 batch_normalization_108\n",
      "47 batch_normalization_111\n",
      "48 activation_157\n",
      "49 activation_160\n",
      "50 average_pooling2d_11\n",
      "51 conv2d_107\n",
      "52 conv2d_109\n",
      "53 conv2d_112\n",
      "54 conv2d_113\n",
      "55 batch_normalization_107\n",
      "56 batch_normalization_109\n",
      "57 batch_normalization_112\n",
      "58 batch_normalization_113\n",
      "59 activation_156\n",
      "60 activation_158\n",
      "61 activation_161\n",
      "62 activation_162\n",
      "63 mixed1\n",
      "64 conv2d_117\n",
      "65 batch_normalization_117\n",
      "66 activation_166\n",
      "67 conv2d_115\n",
      "68 conv2d_118\n",
      "69 batch_normalization_115\n",
      "70 batch_normalization_118\n",
      "71 activation_164\n",
      "72 activation_167\n",
      "73 average_pooling2d_12\n",
      "74 conv2d_114\n",
      "75 conv2d_116\n",
      "76 conv2d_119\n",
      "77 conv2d_120\n",
      "78 batch_normalization_114\n",
      "79 batch_normalization_116\n",
      "80 batch_normalization_119\n",
      "81 batch_normalization_120\n",
      "82 activation_163\n",
      "83 activation_165\n",
      "84 activation_168\n",
      "85 activation_169\n",
      "86 mixed2\n",
      "87 conv2d_122\n",
      "88 batch_normalization_122\n",
      "89 activation_171\n",
      "90 conv2d_123\n",
      "91 batch_normalization_123\n",
      "92 activation_172\n",
      "93 conv2d_121\n",
      "94 conv2d_124\n",
      "95 batch_normalization_121\n",
      "96 batch_normalization_124\n",
      "97 activation_170\n",
      "98 activation_173\n",
      "99 max_pooling2d_8\n",
      "100 mixed3\n",
      "101 conv2d_129\n",
      "102 batch_normalization_129\n",
      "103 activation_178\n",
      "104 conv2d_130\n",
      "105 batch_normalization_130\n",
      "106 activation_179\n",
      "107 conv2d_126\n",
      "108 conv2d_131\n",
      "109 batch_normalization_126\n",
      "110 batch_normalization_131\n",
      "111 activation_175\n",
      "112 activation_180\n",
      "113 conv2d_127\n",
      "114 conv2d_132\n",
      "115 batch_normalization_127\n",
      "116 batch_normalization_132\n",
      "117 activation_176\n",
      "118 activation_181\n",
      "119 average_pooling2d_13\n",
      "120 conv2d_125\n",
      "121 conv2d_128\n",
      "122 conv2d_133\n",
      "123 conv2d_134\n",
      "124 batch_normalization_125\n",
      "125 batch_normalization_128\n",
      "126 batch_normalization_133\n",
      "127 batch_normalization_134\n",
      "128 activation_174\n",
      "129 activation_177\n",
      "130 activation_182\n",
      "131 activation_183\n",
      "132 mixed4\n",
      "133 conv2d_139\n",
      "134 batch_normalization_139\n",
      "135 activation_188\n",
      "136 conv2d_140\n",
      "137 batch_normalization_140\n",
      "138 activation_189\n",
      "139 conv2d_136\n",
      "140 conv2d_141\n",
      "141 batch_normalization_136\n",
      "142 batch_normalization_141\n",
      "143 activation_185\n",
      "144 activation_190\n",
      "145 conv2d_137\n",
      "146 conv2d_142\n",
      "147 batch_normalization_137\n",
      "148 batch_normalization_142\n",
      "149 activation_186\n",
      "150 activation_191\n",
      "151 average_pooling2d_14\n",
      "152 conv2d_135\n",
      "153 conv2d_138\n",
      "154 conv2d_143\n",
      "155 conv2d_144\n",
      "156 batch_normalization_135\n",
      "157 batch_normalization_138\n",
      "158 batch_normalization_143\n",
      "159 batch_normalization_144\n",
      "160 activation_184\n",
      "161 activation_187\n",
      "162 activation_192\n",
      "163 activation_193\n",
      "164 mixed5\n",
      "165 conv2d_149\n",
      "166 batch_normalization_149\n",
      "167 activation_198\n",
      "168 conv2d_150\n",
      "169 batch_normalization_150\n",
      "170 activation_199\n",
      "171 conv2d_146\n",
      "172 conv2d_151\n",
      "173 batch_normalization_146\n",
      "174 batch_normalization_151\n",
      "175 activation_195\n",
      "176 activation_200\n",
      "177 conv2d_147\n",
      "178 conv2d_152\n",
      "179 batch_normalization_147\n",
      "180 batch_normalization_152\n",
      "181 activation_196\n",
      "182 activation_201\n",
      "183 average_pooling2d_15\n",
      "184 conv2d_145\n",
      "185 conv2d_148\n",
      "186 conv2d_153\n",
      "187 conv2d_154\n",
      "188 batch_normalization_145\n",
      "189 batch_normalization_148\n",
      "190 batch_normalization_153\n",
      "191 batch_normalization_154\n",
      "192 activation_194\n",
      "193 activation_197\n",
      "194 activation_202\n",
      "195 activation_203\n",
      "196 mixed6\n",
      "197 conv2d_159\n",
      "198 batch_normalization_159\n",
      "199 activation_208\n",
      "200 conv2d_160\n",
      "201 batch_normalization_160\n",
      "202 activation_209\n",
      "203 conv2d_156\n",
      "204 conv2d_161\n",
      "205 batch_normalization_156\n",
      "206 batch_normalization_161\n",
      "207 activation_205\n",
      "208 activation_210\n",
      "209 conv2d_157\n",
      "210 conv2d_162\n",
      "211 batch_normalization_157\n",
      "212 batch_normalization_162\n",
      "213 activation_206\n",
      "214 activation_211\n",
      "215 average_pooling2d_16\n",
      "216 conv2d_155\n",
      "217 conv2d_158\n",
      "218 conv2d_163\n",
      "219 conv2d_164\n",
      "220 batch_normalization_155\n",
      "221 batch_normalization_158\n",
      "222 batch_normalization_163\n",
      "223 batch_normalization_164\n",
      "224 activation_204\n",
      "225 activation_207\n",
      "226 activation_212\n",
      "227 activation_213\n",
      "228 mixed7\n",
      "229 conv2d_167\n",
      "230 batch_normalization_167\n",
      "231 activation_216\n",
      "232 conv2d_168\n",
      "233 batch_normalization_168\n",
      "234 activation_217\n",
      "235 conv2d_165\n",
      "236 conv2d_169\n",
      "237 batch_normalization_165\n",
      "238 batch_normalization_169\n",
      "239 activation_214\n",
      "240 activation_218\n",
      "241 conv2d_166\n",
      "242 conv2d_170\n",
      "243 batch_normalization_166\n",
      "244 batch_normalization_170\n",
      "245 activation_215\n",
      "246 activation_219\n",
      "247 max_pooling2d_9\n",
      "248 mixed8\n",
      "249 conv2d_175\n",
      "250 batch_normalization_175\n",
      "251 activation_224\n",
      "252 conv2d_172\n",
      "253 conv2d_176\n",
      "254 batch_normalization_172\n",
      "255 batch_normalization_176\n",
      "256 activation_221\n",
      "257 activation_225\n",
      "258 conv2d_173\n",
      "259 conv2d_174\n",
      "260 conv2d_177\n",
      "261 conv2d_178\n",
      "262 average_pooling2d_17\n",
      "263 conv2d_171\n",
      "264 batch_normalization_173\n",
      "265 batch_normalization_174\n",
      "266 batch_normalization_177\n",
      "267 batch_normalization_178\n",
      "268 conv2d_179\n",
      "269 batch_normalization_171\n",
      "270 activation_222\n",
      "271 activation_223\n",
      "272 activation_226\n",
      "273 activation_227\n",
      "274 batch_normalization_179\n",
      "275 activation_220\n",
      "276 mixed9_0\n",
      "277 concatenate_3\n",
      "278 activation_228\n",
      "279 mixed9\n",
      "280 conv2d_184\n",
      "281 batch_normalization_184\n",
      "282 activation_233\n",
      "283 conv2d_181\n",
      "284 conv2d_185\n",
      "285 batch_normalization_181\n",
      "286 batch_normalization_185\n",
      "287 activation_230\n",
      "288 activation_234\n",
      "289 conv2d_182\n",
      "290 conv2d_183\n",
      "291 conv2d_186\n",
      "292 conv2d_187\n",
      "293 average_pooling2d_18\n",
      "294 conv2d_180\n",
      "295 batch_normalization_182\n",
      "296 batch_normalization_183\n",
      "297 batch_normalization_186\n",
      "298 batch_normalization_187\n",
      "299 conv2d_188\n",
      "300 batch_normalization_180\n",
      "301 activation_231\n",
      "302 activation_232\n",
      "303 activation_235\n",
      "304 activation_236\n",
      "305 batch_normalization_188\n",
      "306 activation_229\n",
      "307 mixed9_1\n",
      "308 concatenate_4\n",
      "309 activation_237\n",
      "310 mixed10\n",
      "WARNING:tensorflow:Variable *= will be deprecated. Use variable.assign_mul if you want assignment to the variable value or 'x = x * y' if you want a new python Tensor object.\n",
      "Epoch 1/10\n",
      "175/175 [==============================] - 261s 1s/step - loss: 0.1099 - acc: 0.9552 - val_loss: 0.8625 - val_acc: 0.7375\n",
      "Epoch 2/10\n",
      "175/175 [==============================] - 247s 1s/step - loss: 0.0666 - acc: 0.9722 - val_loss: 0.6669 - val_acc: 0.7641\n",
      "Epoch 3/10\n",
      "175/175 [==============================] - 250s 1s/step - loss: 0.0497 - acc: 0.9805 - val_loss: 0.8357 - val_acc: 0.7419\n",
      "Epoch 4/10\n",
      "175/175 [==============================] - 251s 1s/step - loss: 0.0428 - acc: 0.9833 - val_loss: 0.7168 - val_acc: 0.7649\n",
      "Epoch 5/10\n",
      "175/175 [==============================] - 248s 1s/step - loss: 0.0397 - acc: 0.9860 - val_loss: 0.5458 - val_acc: 0.7963\n",
      "Epoch 6/10\n",
      "175/175 [==============================] - 247s 1s/step - loss: 0.0337 - acc: 0.9870 - val_loss: 0.5904 - val_acc: 0.7951\n",
      "Epoch 7/10\n",
      "175/175 [==============================] - 247s 1s/step - loss: 0.0277 - acc: 0.9892 - val_loss: 0.8066 - val_acc: 0.7552\n",
      "Epoch 8/10\n",
      "175/175 [==============================] - 248s 1s/step - loss: 0.0236 - acc: 0.9914 - val_loss: 0.8201 - val_acc: 0.7560\n",
      "Epoch 9/10\n",
      "175/175 [==============================] - 255s 1s/step - loss: 0.0259 - acc: 0.9908 - val_loss: 0.6072 - val_acc: 0.7991\n",
      "Epoch 10/10\n",
      "170/175 [============================>.] - ETA: 6s - loss: 0.0225 - acc: 0.9922"
     ]
    }
   ],
   "source": [
    "# at this point, the top layers are well trained and we can start fine-tuning\n",
    "# convolutional layers from inception V3. We will freeze the bottom N layers\n",
    "# and train the remaining top layers.\n",
    "\n",
    "# let's visualize layer names and layer indices to see how many layers\n",
    "# we should freeze:\n",
    "for i, layer in enumerate(base_model.layers):\n",
    "    print(i, layer.name)\n",
    "\n",
    "# we chose to train the top 2 inception blocks, i.e. we will freeze\n",
    "# the first 249 layers and unfreeze the rest:\n",
    "for layer in model.layers[:249]:\n",
    "    layer.trainable = False\n",
    "for layer in model.layers[249:]:\n",
    "    layer.trainable = True\n",
    "\n",
    "\n",
    "# we need to recompile the model for these modifications to take effect\n",
    "# we use SGD with a low learning rate\n",
    "# loss='sparse_categorical_crossentropy'\n",
    "from keras.optimizers import SGD\n",
    "# Adam(lr=0.001)\n",
    "opt2 = SGD(lr=0.0008, momentum=0.99, decay=0.00002, nesterov=True)\n",
    "model.compile(optimizer=opt2, loss='binary_crossentropy', metrics=['accuracy'])\n",
    "\n",
    "# we train our model again (this time fine-tuning the top 2 inception blocks\n",
    "# alongside the top Dense layers\n",
    "# history2 = model.fit(train_feature, train_label, batch_size=batch_size, epochs=10, validation_data=(validation_feature, validation_label), class_weight='auto')\n",
    "history2 = model.fit_generator(train_gen, epochs=10, validation_data=val_gen)"
   ]
  },
  {
   "cell_type": "code",
   "execution_count": 99,
   "metadata": {
    "collapsed": true
   },
   "outputs": [
    {
     "data": {
      "text/plain": [
       "Text(0.5,1,'Accuracy Curves')"
      ]
     },
     "execution_count": 99,
     "metadata": {},
     "output_type": "execute_result"
    },
    {
     "data": {
      "image/png": "[encoded data removed]",
      "text/plain": [
       "<matplotlib.figure.Figure at 0x1ab32d2390>"
      ]
     },
     "metadata": {},
     "output_type": "display_data"
    },
    {
     "data": {
      "image/png": "[encoded data removed]",
      "text/plain": [
       "<matplotlib.figure.Figure at 0x1a96a9f828>"
      ]
     },
     "metadata": {},
     "output_type": "display_data"
    }
   ],
   "source": [
    "# show history\n",
    "\n",
    "import matplotlib.pyplot as plt\n",
    "\n",
    "# Loss Curves\n",
    "plt.figure(figsize=[8,6])\n",
    "plt.plot(history.history['loss'],'r',linewidth=3.0)\n",
    "plt.plot(history.history['val_loss'],'b',linewidth=3.0)\n",
    "plt.legend(['Training loss', 'Validation Loss'],fontsize=18)\n",
    "plt.xlabel('Epochs ',fontsize=16)\n",
    "plt.ylabel('Loss',fontsize=16)\n",
    "plt.title('Loss Curves',fontsize=16)\n",
    " \n",
    "# Accuracy Curves\n",
    "plt.figure(figsize=[8,6])\n",
    "plt.plot(history.history['acc'],'r',linewidth=3.0)\n",
    "plt.plot(history.history['val_acc'],'b',linewidth=3.0)\n",
    "plt.legend(['Training Accuracy', 'Validation Accuracy'],fontsize=18)\n",
    "plt.xlabel('Epochs ',fontsize=16)\n",
    "plt.ylabel('Accuracy',fontsize=16)\n",
    "plt.title('Accuracy Curves',fontsize=16)"
   ]
  },
  {
   "cell_type": "code",
   "execution_count": 100,
   "metadata": {},
   "outputs": [
    {
     "data": {
      "text/plain": [
       "Text(0.5,1,'Accuracy Curves')"
      ]
     },
     "execution_count": 100,
     "metadata": {},
     "output_type": "execute_result"
    },
    {
     "data": {
      "image/png": "[encoded data removed]",
      "text/plain": [
       "<matplotlib.figure.Figure at 0x1823d147f0>"
      ]
     },
     "metadata": {},
     "output_type": "display_data"
    },
    {
     "data": {
      "image/png": "[encoded data removed]",
      "text/plain": [
       "<matplotlib.figure.Figure at 0x1ab36aae48>"
      ]
     },
     "metadata": {},
     "output_type": "display_data"
    }
   ],
   "source": [
    "# Loss Curves\n",
    "plt.figure(figsize=[8,6])\n",
    "plt.plot(history2.history['loss'],'r',linewidth=3.0)\n",
    "plt.plot(history2.history['val_loss'],'b',linewidth=3.0)\n",
    "plt.legend(['Training loss', 'Validation Loss'],fontsize=18)\n",
    "plt.xlabel('Epochs ',fontsize=16)\n",
    "plt.ylabel('Loss',fontsize=16)\n",
    "plt.title('Loss Curves',fontsize=16)\n",
    " \n",
    "# Accuracy Curves\n",
    "plt.figure(figsize=[8,6])\n",
    "plt.plot(history2.history['acc'],'r',linewidth=3.0)\n",
    "plt.plot(history2.history['val_acc'],'b',linewidth=3.0)\n",
    "plt.legend(['Training Accuracy', 'Validation Accuracy'],fontsize=18)\n",
    "plt.xlabel('Epochs ',fontsize=16)\n",
    "plt.ylabel('Accuracy',fontsize=16)\n",
    "plt.title('Accuracy Curves',fontsize=16)"
   ]
  },
  {
   "cell_type": "code",
   "execution_count": 30,
   "metadata": {},
   "outputs": [
    {
     "name": "stdout",
     "output_type": "stream",
     "text": [
      "done\n"
     ]
    }
   ],
   "source": [
    "import math\n",
    "\n",
    "def score_fun(label_pre):\n",
    "    total_score = 0\n",
    "    size = validation_label.size\n",
    "    for i in range(size):\n",
    "        y = validation_label[i]\n",
    "        yp = label_pre[i]\n",
    "#         print (str(y) + \" \" + str(yp))\n",
    "        try:\n",
    "            total_score = y * math.log(yp) + (1 - y)*math.log(1-yp)\n",
    "        except:\n",
    "            print (str(i) + \": \" + str(y) + \" - \" + str(yp))\n",
    "    return -total_score/size\n",
    "print(\"done\")"
   ]
  },
  {
   "cell_type": "code",
   "execution_count": 31,
   "metadata": {},
   "outputs": [
    {
     "name": "stdout",
     "output_type": "stream",
     "text": [
      "4.046025048481314e-06\n"
     ]
    }
   ],
   "source": [
    "val_label_pre = model.predict(validation_feature)\n",
    "val_label_pre = np.clip(val_label_pre, 0.01, 0.99)\n",
    "score = score_fun(val_label_pre)\n",
    "print (score)"
   ]
  },
  {
   "cell_type": "code",
   "execution_count": 32,
   "metadata": {},
   "outputs": [
    {
     "name": "stdout",
     "output_type": "stream",
     "text": [
      "<class 'numpy.ndarray'>\n",
      "12500\n"
     ]
    }
   ],
   "source": [
    "# Predict for test data\n",
    "\n",
    "import helper\n",
    "\n",
    "test_files = helper.get_test_files()\n",
    "test_files = sorted(test_files, key=lambda s: (len(s), s))\n",
    "\n",
    "test_file_size = len(test_files)\n",
    "\n",
    "test_feature = []\n",
    "for i in range(test_file_size):\n",
    "    test_feature.append(readImage(test_files[i]))\n",
    "test_feature = np.asarray(test_feature)\n",
    "print(type(test_feature))\n",
    "test_label = model.predict(test_feature, batch_size=batch_size)\n",
    "print (len(test_label))"
   ]
  },
  {
   "cell_type": "code",
   "execution_count": 33,
   "metadata": {},
   "outputs": [
    {
     "name": "stdout",
     "output_type": "stream",
     "text": [
      "12500\n",
      "done\n"
     ]
    }
   ],
   "source": [
    "# Write out predict data to csv\n",
    "\n",
    "test_label_output = []\n",
    "test_label_clip = np.clip(test_label, 0.01, 0.99)\n",
    "for i in range(len(test_label_clip)):\n",
    "    test_label_output.append([i + 1, test_label_clip[i]])\n",
    "    \n",
    "print (len(test_label_output))\n",
    "test_label_output = np.array(test_label_output)\n",
    "np.savetxt(\"submission.csv\", test_label_output, fmt='%d,%f', delimiter=',', header=\"id,label\", comments=\"\")\n",
    "print('done')"
   ]
  },
  {
   "cell_type": "code",
   "execution_count": null,
   "metadata": {},
   "outputs": [],
   "source": []
  }
 ],
 "metadata": {
  "kernelspec": {
   "display_name": "Environment (conda_tensorflow_p36)",
   "language": "python",
   "name": "conda_tensorflow_p36"
  },
  "language_info": {
   "codemirror_mode": {
    "name": "ipython",
    "version": 3
   },
   "file_extension": ".py",
   "mimetype": "text/x-python",
   "name": "python",
   "nbconvert_exporter": "python",
   "pygments_lexer": "ipython3",
   "version": "3.6.4"
  }
 },
 "nbformat": 4,
 "nbformat_minor": 2
}
